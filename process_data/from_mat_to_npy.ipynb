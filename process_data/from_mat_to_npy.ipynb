{
 "cells": [
  {
   "cell_type": "code",
   "execution_count": 2,
   "metadata": {},
   "outputs": [],
   "source": [
    "import numpy as np\n",
    "import os\n",
    "import scipy.io as scio"
   ]
  },
  {
   "cell_type": "markdown",
   "metadata": {},
   "source": [
    "## change .mat to .npy for load_speed"
   ]
  },
  {
   "cell_type": "markdown",
   "metadata": {},
   "source": [
    "HeatCubes"
   ]
  },
  {
   "cell_type": "code",
   "execution_count": null,
   "metadata": {},
   "outputs": [],
   "source": [
    "matfile = ''\n",
    "root = '/home/ljm/workspace/zx/HADAR_database/'\n",
    "for i in list(range(1,12)):\n",
    "    filename = os.listdir(os.path.join(root, f'Scene{i}', 'HeatCubes'))\n",
    "    for file in filename:\n",
    "        if file[-3:] == 'mat':\n",
    "            matfile = os.path.join(root, f'Scene{i}', 'HeatCubes') + '/' + file\n",
    "            if i != 11:\n",
    "                data = scio.loadmat(matfile)[\"S\"]\n",
    "            else:\n",
    "                data = scio.loadmat(matfile)[\"HSI\"]\n",
    "            out_filename = matfile[:-3] + 'npy'\n",
    "            np.save(out_filename, data)\n",
    "            # print(np.load(out_filename) == data)\n",
    "            print(out_filename + ' is saved')\n"
   ]
  },
  {
   "cell_type": "markdown",
   "metadata": {},
   "source": [
    "T_maps"
   ]
  },
  {
   "cell_type": "code",
   "execution_count": 16,
   "metadata": {},
   "outputs": [
    {
     "name": "stdout",
     "output_type": "stream",
     "text": [
      "/home/ljm/workspace/zx/HADAR_database/Scene1/GroundTruth/tMap/tMap_R_0002.npy is saved\n",
      "/home/ljm/workspace/zx/HADAR_database/Scene1/GroundTruth/tMap/tMap_R_0004.npy is saved\n",
      "/home/ljm/workspace/zx/HADAR_database/Scene1/GroundTruth/tMap/tMap_L_0005.npy is saved\n",
      "/home/ljm/workspace/zx/HADAR_database/Scene1/GroundTruth/tMap/tMap_L_0001.npy is saved\n",
      "/home/ljm/workspace/zx/HADAR_database/Scene1/GroundTruth/tMap/tMap_L_0002.npy is saved\n",
      "/home/ljm/workspace/zx/HADAR_database/Scene1/GroundTruth/tMap/tMap_R_0003.npy is saved\n",
      "/home/ljm/workspace/zx/HADAR_database/Scene1/GroundTruth/tMap/tMap_R_0005.npy is saved\n",
      "/home/ljm/workspace/zx/HADAR_database/Scene1/GroundTruth/tMap/tMap_R_0001.npy is saved\n",
      "/home/ljm/workspace/zx/HADAR_database/Scene1/GroundTruth/tMap/tMap_L_0004.npy is saved\n",
      "/home/ljm/workspace/zx/HADAR_database/Scene1/GroundTruth/tMap/tMap_L_0003.npy is saved\n",
      "/home/ljm/workspace/zx/HADAR_database/Scene2/GroundTruth/tMap/tMap_R_0002.npy is saved\n",
      "/home/ljm/workspace/zx/HADAR_database/Scene2/GroundTruth/tMap/tMap_R_0004.npy is saved\n",
      "/home/ljm/workspace/zx/HADAR_database/Scene2/GroundTruth/tMap/tMap_L_0005.npy is saved\n",
      "/home/ljm/workspace/zx/HADAR_database/Scene2/GroundTruth/tMap/tMap_L_0001.npy is saved\n",
      "/home/ljm/workspace/zx/HADAR_database/Scene2/GroundTruth/tMap/tMap_L_0002.npy is saved\n",
      "/home/ljm/workspace/zx/HADAR_database/Scene2/GroundTruth/tMap/tMap_R_0003.npy is saved\n",
      "/home/ljm/workspace/zx/HADAR_database/Scene2/GroundTruth/tMap/tMap_R_0005.npy is saved\n",
      "/home/ljm/workspace/zx/HADAR_database/Scene2/GroundTruth/tMap/tMap_R_0001.npy is saved\n",
      "/home/ljm/workspace/zx/HADAR_database/Scene2/GroundTruth/tMap/tMap_L_0004.npy is saved\n",
      "/home/ljm/workspace/zx/HADAR_database/Scene2/GroundTruth/tMap/tMap_L_0003.npy is saved\n",
      "/home/ljm/workspace/zx/HADAR_database/Scene3/GroundTruth/tMap/tMap_R_0002.npy is saved\n",
      "/home/ljm/workspace/zx/HADAR_database/Scene3/GroundTruth/tMap/tMap_R_0004.npy is saved\n",
      "/home/ljm/workspace/zx/HADAR_database/Scene3/GroundTruth/tMap/tMap_L_0005.npy is saved\n",
      "/home/ljm/workspace/zx/HADAR_database/Scene3/GroundTruth/tMap/tMap_L_0001.npy is saved\n",
      "/home/ljm/workspace/zx/HADAR_database/Scene3/GroundTruth/tMap/tMap_L_0002.npy is saved\n",
      "/home/ljm/workspace/zx/HADAR_database/Scene3/GroundTruth/tMap/tMap_R_0003.npy is saved\n",
      "/home/ljm/workspace/zx/HADAR_database/Scene3/GroundTruth/tMap/tMap_R_0005.npy is saved\n",
      "/home/ljm/workspace/zx/HADAR_database/Scene3/GroundTruth/tMap/tMap_R_0001.npy is saved\n",
      "/home/ljm/workspace/zx/HADAR_database/Scene3/GroundTruth/tMap/tMap_L_0004.npy is saved\n",
      "/home/ljm/workspace/zx/HADAR_database/Scene3/GroundTruth/tMap/tMap_L_0003.npy is saved\n",
      "/home/ljm/workspace/zx/HADAR_database/Scene4/GroundTruth/tMap/tMap_R_0002.npy is saved\n",
      "/home/ljm/workspace/zx/HADAR_database/Scene4/GroundTruth/tMap/tMap_R_0004.npy is saved\n",
      "/home/ljm/workspace/zx/HADAR_database/Scene4/GroundTruth/tMap/tMap_L_0005.npy is saved\n",
      "/home/ljm/workspace/zx/HADAR_database/Scene4/GroundTruth/tMap/tMap_L_0001.npy is saved\n",
      "/home/ljm/workspace/zx/HADAR_database/Scene4/GroundTruth/tMap/tMap_L_0002.npy is saved\n",
      "/home/ljm/workspace/zx/HADAR_database/Scene4/GroundTruth/tMap/tMap_R_0003.npy is saved\n",
      "/home/ljm/workspace/zx/HADAR_database/Scene4/GroundTruth/tMap/tMap_R_0005.npy is saved\n",
      "/home/ljm/workspace/zx/HADAR_database/Scene4/GroundTruth/tMap/tMap_R_0001.npy is saved\n",
      "/home/ljm/workspace/zx/HADAR_database/Scene4/GroundTruth/tMap/tMap_L_0004.npy is saved\n",
      "/home/ljm/workspace/zx/HADAR_database/Scene4/GroundTruth/tMap/tMap_L_0003.npy is saved\n",
      "/home/ljm/workspace/zx/HADAR_database/Scene5/GroundTruth/tMap/tMap_R_0002.npy is saved\n",
      "/home/ljm/workspace/zx/HADAR_database/Scene5/GroundTruth/tMap/tMap_R_0004.npy is saved\n",
      "/home/ljm/workspace/zx/HADAR_database/Scene5/GroundTruth/tMap/tMap_L_0005.npy is saved\n",
      "/home/ljm/workspace/zx/HADAR_database/Scene5/GroundTruth/tMap/tMap_L_0001.npy is saved\n",
      "/home/ljm/workspace/zx/HADAR_database/Scene5/GroundTruth/tMap/tMap_L_0002.npy is saved\n",
      "/home/ljm/workspace/zx/HADAR_database/Scene5/GroundTruth/tMap/tMap_R_0003.npy is saved\n",
      "/home/ljm/workspace/zx/HADAR_database/Scene5/GroundTruth/tMap/tMap_R_0005.npy is saved\n",
      "/home/ljm/workspace/zx/HADAR_database/Scene5/GroundTruth/tMap/tMap_R_0001.npy is saved\n",
      "/home/ljm/workspace/zx/HADAR_database/Scene5/GroundTruth/tMap/tMap_L_0004.npy is saved\n",
      "/home/ljm/workspace/zx/HADAR_database/Scene5/GroundTruth/tMap/tMap_L_0003.npy is saved\n",
      "/home/ljm/workspace/zx/HADAR_database/Scene6/GroundTruth/tMap/tMap_R_0002.npy is saved\n",
      "/home/ljm/workspace/zx/HADAR_database/Scene6/GroundTruth/tMap/tMap_R_0004.npy is saved\n",
      "/home/ljm/workspace/zx/HADAR_database/Scene6/GroundTruth/tMap/tMap_L_0005.npy is saved\n",
      "/home/ljm/workspace/zx/HADAR_database/Scene6/GroundTruth/tMap/tMap_L_0001.npy is saved\n",
      "/home/ljm/workspace/zx/HADAR_database/Scene6/GroundTruth/tMap/tMap_L_0002.npy is saved\n",
      "/home/ljm/workspace/zx/HADAR_database/Scene6/GroundTruth/tMap/tMap_R_0003.npy is saved\n",
      "/home/ljm/workspace/zx/HADAR_database/Scene6/GroundTruth/tMap/tMap_R_0005.npy is saved\n",
      "/home/ljm/workspace/zx/HADAR_database/Scene6/GroundTruth/tMap/tMap_R_0001.npy is saved\n",
      "/home/ljm/workspace/zx/HADAR_database/Scene6/GroundTruth/tMap/tMap_L_0004.npy is saved\n",
      "/home/ljm/workspace/zx/HADAR_database/Scene6/GroundTruth/tMap/tMap_L_0003.npy is saved\n",
      "/home/ljm/workspace/zx/HADAR_database/Scene7/GroundTruth/tMap/tMap_R_0002.npy is saved\n",
      "/home/ljm/workspace/zx/HADAR_database/Scene7/GroundTruth/tMap/tMap_R_0004.npy is saved\n",
      "/home/ljm/workspace/zx/HADAR_database/Scene7/GroundTruth/tMap/tMap_L_0005.npy is saved\n",
      "/home/ljm/workspace/zx/HADAR_database/Scene7/GroundTruth/tMap/tMap_L_0001.npy is saved\n",
      "/home/ljm/workspace/zx/HADAR_database/Scene7/GroundTruth/tMap/tMap_L_0002.npy is saved\n",
      "/home/ljm/workspace/zx/HADAR_database/Scene7/GroundTruth/tMap/tMap_R_0003.npy is saved\n",
      "/home/ljm/workspace/zx/HADAR_database/Scene7/GroundTruth/tMap/tMap_R_0005.npy is saved\n",
      "/home/ljm/workspace/zx/HADAR_database/Scene7/GroundTruth/tMap/tMap_R_0001.npy is saved\n",
      "/home/ljm/workspace/zx/HADAR_database/Scene7/GroundTruth/tMap/tMap_L_0004.npy is saved\n",
      "/home/ljm/workspace/zx/HADAR_database/Scene7/GroundTruth/tMap/tMap_L_0003.npy is saved\n",
      "/home/ljm/workspace/zx/HADAR_database/Scene8/GroundTruth/tMap/tMap_R_0002.npy is saved\n",
      "/home/ljm/workspace/zx/HADAR_database/Scene8/GroundTruth/tMap/tMap_R_0004.npy is saved\n",
      "/home/ljm/workspace/zx/HADAR_database/Scene8/GroundTruth/tMap/tMap_L_0005.npy is saved\n",
      "/home/ljm/workspace/zx/HADAR_database/Scene8/GroundTruth/tMap/tMap_L_0001.npy is saved\n",
      "/home/ljm/workspace/zx/HADAR_database/Scene8/GroundTruth/tMap/tMap_L_0002.npy is saved\n",
      "/home/ljm/workspace/zx/HADAR_database/Scene8/GroundTruth/tMap/tMap_R_0003.npy is saved\n",
      "/home/ljm/workspace/zx/HADAR_database/Scene8/GroundTruth/tMap/tMap_R_0005.npy is saved\n",
      "/home/ljm/workspace/zx/HADAR_database/Scene8/GroundTruth/tMap/tMap_R_0001.npy is saved\n",
      "/home/ljm/workspace/zx/HADAR_database/Scene8/GroundTruth/tMap/tMap_L_0004.npy is saved\n",
      "/home/ljm/workspace/zx/HADAR_database/Scene8/GroundTruth/tMap/tMap_L_0003.npy is saved\n",
      "/home/ljm/workspace/zx/HADAR_database/Scene9/GroundTruth/tMap/tMap_R_0002.npy is saved\n",
      "/home/ljm/workspace/zx/HADAR_database/Scene9/GroundTruth/tMap/tMap_R_0004.npy is saved\n",
      "/home/ljm/workspace/zx/HADAR_database/Scene9/GroundTruth/tMap/tMap_L_0005.npy is saved\n",
      "/home/ljm/workspace/zx/HADAR_database/Scene9/GroundTruth/tMap/tMap_L_0001.npy is saved\n",
      "/home/ljm/workspace/zx/HADAR_database/Scene9/GroundTruth/tMap/tMap_L_0002.npy is saved\n",
      "/home/ljm/workspace/zx/HADAR_database/Scene9/GroundTruth/tMap/tMap_R_0003.npy is saved\n",
      "/home/ljm/workspace/zx/HADAR_database/Scene9/GroundTruth/tMap/tMap_R_0005.npy is saved\n",
      "/home/ljm/workspace/zx/HADAR_database/Scene9/GroundTruth/tMap/tMap_R_0001.npy is saved\n",
      "/home/ljm/workspace/zx/HADAR_database/Scene9/GroundTruth/tMap/tMap_L_0004.npy is saved\n",
      "/home/ljm/workspace/zx/HADAR_database/Scene9/GroundTruth/tMap/tMap_L_0003.npy is saved\n",
      "/home/ljm/workspace/zx/HADAR_database/Scene10/GroundTruth/tMap/tMap_R_0002.npy is saved\n",
      "/home/ljm/workspace/zx/HADAR_database/Scene10/GroundTruth/tMap/tMap_R_0004.npy is saved\n",
      "/home/ljm/workspace/zx/HADAR_database/Scene10/GroundTruth/tMap/tMap_L_0005.npy is saved\n",
      "/home/ljm/workspace/zx/HADAR_database/Scene10/GroundTruth/tMap/tMap_L_0001.npy is saved\n",
      "/home/ljm/workspace/zx/HADAR_database/Scene10/GroundTruth/tMap/tMap_L_0002.npy is saved\n",
      "/home/ljm/workspace/zx/HADAR_database/Scene10/GroundTruth/tMap/tMap_R_0003.npy is saved\n",
      "/home/ljm/workspace/zx/HADAR_database/Scene10/GroundTruth/tMap/tMap_R_0005.npy is saved\n",
      "/home/ljm/workspace/zx/HADAR_database/Scene10/GroundTruth/tMap/tMap_R_0001.npy is saved\n",
      "/home/ljm/workspace/zx/HADAR_database/Scene10/GroundTruth/tMap/tMap_L_0004.npy is saved\n",
      "/home/ljm/workspace/zx/HADAR_database/Scene10/GroundTruth/tMap/tMap_L_0003.npy is saved\n",
      "/home/ljm/workspace/zx/HADAR_database/Scene11/GroundTruth/tMap/tMap_0002.npy is saved\n",
      "/home/ljm/workspace/zx/HADAR_database/Scene11/GroundTruth/tMap/tMap_0003.npy is saved\n",
      "/home/ljm/workspace/zx/HADAR_database/Scene11/GroundTruth/tMap/tMap_0001.npy is saved\n",
      "/home/ljm/workspace/zx/HADAR_database/Scene11/GroundTruth/tMap/tMap_0004.npy is saved\n"
     ]
    }
   ],
   "source": [
    "matfile = ''\n",
    "root = '/home/ljm/workspace/zx/HADAR_database/'\n",
    "for i in list(range(1,12)):\n",
    "    filename = os.listdir(os.path.join(root, f'Scene{i}', 'GroundTruth', 'tMap'))\n",
    "    for file in filename:\n",
    "        if file[-3:] == 'mat':\n",
    "            matfile = os.path.join(root, f'Scene{i}', 'GroundTruth', 'tMap') + '/' + file\n",
    "            data = scio.loadmat(matfile)[\"tMap\"]  \n",
    "            out_filename = matfile[:-3] + 'npy'\n",
    "            np.save(out_filename, data)\n",
    "            # print(np.load(out_filename) == data)\n",
    "            print(out_filename + ' is saved')"
   ]
  },
  {
   "cell_type": "markdown",
   "metadata": {},
   "source": [
    "v_maps"
   ]
  },
  {
   "cell_type": "code",
   "execution_count": 17,
   "metadata": {},
   "outputs": [
    {
     "name": "stdout",
     "output_type": "stream",
     "text": [
      "/home/ljm/workspace/zx/HADAR_database/Scene1/GroundTruth/vMap/vMap_R_0003.npy is saved\n",
      "/home/ljm/workspace/zx/HADAR_database/Scene1/GroundTruth/vMap/vMap_L_0001.npy is saved\n",
      "/home/ljm/workspace/zx/HADAR_database/Scene1/GroundTruth/vMap/vMap_R_0001.npy is saved\n",
      "/home/ljm/workspace/zx/HADAR_database/Scene1/GroundTruth/vMap/vMap_R_0004.npy is saved\n",
      "/home/ljm/workspace/zx/HADAR_database/Scene1/GroundTruth/vMap/vMap_L_0003.npy is saved\n",
      "/home/ljm/workspace/zx/HADAR_database/Scene1/GroundTruth/vMap/vMap_L_0002.npy is saved\n",
      "/home/ljm/workspace/zx/HADAR_database/Scene1/GroundTruth/vMap/vMap_L_0005.npy is saved\n",
      "/home/ljm/workspace/zx/HADAR_database/Scene1/GroundTruth/vMap/vMap_R_0005.npy is saved\n",
      "/home/ljm/workspace/zx/HADAR_database/Scene1/GroundTruth/vMap/vMap_R_0002.npy is saved\n",
      "/home/ljm/workspace/zx/HADAR_database/Scene1/GroundTruth/vMap/vMap_L_0004.npy is saved\n",
      "/home/ljm/workspace/zx/HADAR_database/Scene2/GroundTruth/vMap/vMap_R_0003.npy is saved\n",
      "/home/ljm/workspace/zx/HADAR_database/Scene2/GroundTruth/vMap/vMap_L_0001.npy is saved\n",
      "/home/ljm/workspace/zx/HADAR_database/Scene2/GroundTruth/vMap/vMap_R_0001.npy is saved\n",
      "/home/ljm/workspace/zx/HADAR_database/Scene2/GroundTruth/vMap/vMap_R_0004.npy is saved\n",
      "/home/ljm/workspace/zx/HADAR_database/Scene2/GroundTruth/vMap/vMap_L_0003.npy is saved\n",
      "/home/ljm/workspace/zx/HADAR_database/Scene2/GroundTruth/vMap/vMap_L_0002.npy is saved\n",
      "/home/ljm/workspace/zx/HADAR_database/Scene2/GroundTruth/vMap/vMap_L_0005.npy is saved\n",
      "/home/ljm/workspace/zx/HADAR_database/Scene2/GroundTruth/vMap/vMap_R_0005.npy is saved\n",
      "/home/ljm/workspace/zx/HADAR_database/Scene2/GroundTruth/vMap/vMap_R_0002.npy is saved\n",
      "/home/ljm/workspace/zx/HADAR_database/Scene2/GroundTruth/vMap/vMap_L_0004.npy is saved\n",
      "/home/ljm/workspace/zx/HADAR_database/Scene3/GroundTruth/vMap/vMap_R_0003.npy is saved\n",
      "/home/ljm/workspace/zx/HADAR_database/Scene3/GroundTruth/vMap/vMap_L_0001.npy is saved\n",
      "/home/ljm/workspace/zx/HADAR_database/Scene3/GroundTruth/vMap/vMap_R_0001.npy is saved\n",
      "/home/ljm/workspace/zx/HADAR_database/Scene3/GroundTruth/vMap/vMap_R_0004.npy is saved\n",
      "/home/ljm/workspace/zx/HADAR_database/Scene3/GroundTruth/vMap/vMap_L_0003.npy is saved\n",
      "/home/ljm/workspace/zx/HADAR_database/Scene3/GroundTruth/vMap/vMap_L_0002.npy is saved\n",
      "/home/ljm/workspace/zx/HADAR_database/Scene3/GroundTruth/vMap/vMap_L_0005.npy is saved\n",
      "/home/ljm/workspace/zx/HADAR_database/Scene3/GroundTruth/vMap/vMap_R_0005.npy is saved\n",
      "/home/ljm/workspace/zx/HADAR_database/Scene3/GroundTruth/vMap/vMap_R_0002.npy is saved\n",
      "/home/ljm/workspace/zx/HADAR_database/Scene3/GroundTruth/vMap/vMap_L_0004.npy is saved\n",
      "/home/ljm/workspace/zx/HADAR_database/Scene4/GroundTruth/vMap/vMap_R_0003.npy is saved\n",
      "/home/ljm/workspace/zx/HADAR_database/Scene4/GroundTruth/vMap/vMap_L_0001.npy is saved\n",
      "/home/ljm/workspace/zx/HADAR_database/Scene4/GroundTruth/vMap/vMap_R_0001.npy is saved\n",
      "/home/ljm/workspace/zx/HADAR_database/Scene4/GroundTruth/vMap/vMap_R_0004.npy is saved\n",
      "/home/ljm/workspace/zx/HADAR_database/Scene4/GroundTruth/vMap/vMap_L_0003.npy is saved\n",
      "/home/ljm/workspace/zx/HADAR_database/Scene4/GroundTruth/vMap/vMap_L_0002.npy is saved\n",
      "/home/ljm/workspace/zx/HADAR_database/Scene4/GroundTruth/vMap/vMap_L_0005.npy is saved\n",
      "/home/ljm/workspace/zx/HADAR_database/Scene4/GroundTruth/vMap/vMap_R_0005.npy is saved\n",
      "/home/ljm/workspace/zx/HADAR_database/Scene4/GroundTruth/vMap/vMap_R_0002.npy is saved\n",
      "/home/ljm/workspace/zx/HADAR_database/Scene4/GroundTruth/vMap/vMap_L_0004.npy is saved\n",
      "/home/ljm/workspace/zx/HADAR_database/Scene5/GroundTruth/vMap/vMap_R_0003.npy is saved\n",
      "/home/ljm/workspace/zx/HADAR_database/Scene5/GroundTruth/vMap/vMap_L_0001.npy is saved\n",
      "/home/ljm/workspace/zx/HADAR_database/Scene5/GroundTruth/vMap/vMap_R_0001.npy is saved\n",
      "/home/ljm/workspace/zx/HADAR_database/Scene5/GroundTruth/vMap/vMap_R_0004.npy is saved\n",
      "/home/ljm/workspace/zx/HADAR_database/Scene5/GroundTruth/vMap/vMap_L_0003.npy is saved\n",
      "/home/ljm/workspace/zx/HADAR_database/Scene5/GroundTruth/vMap/vMap_L_0002.npy is saved\n",
      "/home/ljm/workspace/zx/HADAR_database/Scene5/GroundTruth/vMap/vMap_L_0005.npy is saved\n",
      "/home/ljm/workspace/zx/HADAR_database/Scene5/GroundTruth/vMap/vMap_R_0005.npy is saved\n",
      "/home/ljm/workspace/zx/HADAR_database/Scene5/GroundTruth/vMap/vMap_R_0002.npy is saved\n",
      "/home/ljm/workspace/zx/HADAR_database/Scene5/GroundTruth/vMap/vMap_L_0004.npy is saved\n",
      "/home/ljm/workspace/zx/HADAR_database/Scene6/GroundTruth/vMap/vMap_R_0003.npy is saved\n",
      "/home/ljm/workspace/zx/HADAR_database/Scene6/GroundTruth/vMap/vMap_L_0001.npy is saved\n",
      "/home/ljm/workspace/zx/HADAR_database/Scene6/GroundTruth/vMap/vMap_R_0001.npy is saved\n",
      "/home/ljm/workspace/zx/HADAR_database/Scene6/GroundTruth/vMap/vMap_R_0004.npy is saved\n",
      "/home/ljm/workspace/zx/HADAR_database/Scene6/GroundTruth/vMap/vMap_L_0003.npy is saved\n",
      "/home/ljm/workspace/zx/HADAR_database/Scene6/GroundTruth/vMap/vMap_L_0002.npy is saved\n",
      "/home/ljm/workspace/zx/HADAR_database/Scene6/GroundTruth/vMap/vMap_L_0005.npy is saved\n",
      "/home/ljm/workspace/zx/HADAR_database/Scene6/GroundTruth/vMap/vMap_R_0005.npy is saved\n",
      "/home/ljm/workspace/zx/HADAR_database/Scene6/GroundTruth/vMap/vMap_R_0002.npy is saved\n",
      "/home/ljm/workspace/zx/HADAR_database/Scene6/GroundTruth/vMap/vMap_L_0004.npy is saved\n",
      "/home/ljm/workspace/zx/HADAR_database/Scene7/GroundTruth/vMap/vMap_R_0003.npy is saved\n",
      "/home/ljm/workspace/zx/HADAR_database/Scene7/GroundTruth/vMap/vMap_L_0001.npy is saved\n",
      "/home/ljm/workspace/zx/HADAR_database/Scene7/GroundTruth/vMap/vMap_R_0001.npy is saved\n",
      "/home/ljm/workspace/zx/HADAR_database/Scene7/GroundTruth/vMap/vMap_R_0004.npy is saved\n",
      "/home/ljm/workspace/zx/HADAR_database/Scene7/GroundTruth/vMap/vMap_L_0003.npy is saved\n",
      "/home/ljm/workspace/zx/HADAR_database/Scene7/GroundTruth/vMap/vMap_L_0002.npy is saved\n",
      "/home/ljm/workspace/zx/HADAR_database/Scene7/GroundTruth/vMap/vMap_L_0005.npy is saved\n",
      "/home/ljm/workspace/zx/HADAR_database/Scene7/GroundTruth/vMap/vMap_R_0005.npy is saved\n",
      "/home/ljm/workspace/zx/HADAR_database/Scene7/GroundTruth/vMap/vMap_R_0002.npy is saved\n",
      "/home/ljm/workspace/zx/HADAR_database/Scene7/GroundTruth/vMap/vMap_L_0004.npy is saved\n",
      "/home/ljm/workspace/zx/HADAR_database/Scene8/GroundTruth/vMap/vMap_R_0003.npy is saved\n",
      "/home/ljm/workspace/zx/HADAR_database/Scene8/GroundTruth/vMap/vMap_L_0001.npy is saved\n",
      "/home/ljm/workspace/zx/HADAR_database/Scene8/GroundTruth/vMap/vMap_R_0001.npy is saved\n",
      "/home/ljm/workspace/zx/HADAR_database/Scene8/GroundTruth/vMap/vMap_R_0004.npy is saved\n",
      "/home/ljm/workspace/zx/HADAR_database/Scene8/GroundTruth/vMap/vMap_L_0003.npy is saved\n",
      "/home/ljm/workspace/zx/HADAR_database/Scene8/GroundTruth/vMap/vMap_L_0002.npy is saved\n",
      "/home/ljm/workspace/zx/HADAR_database/Scene8/GroundTruth/vMap/vMap_L_0005.npy is saved\n",
      "/home/ljm/workspace/zx/HADAR_database/Scene8/GroundTruth/vMap/vMap_R_0005.npy is saved\n",
      "/home/ljm/workspace/zx/HADAR_database/Scene8/GroundTruth/vMap/vMap_R_0002.npy is saved\n",
      "/home/ljm/workspace/zx/HADAR_database/Scene8/GroundTruth/vMap/vMap_L_0004.npy is saved\n",
      "/home/ljm/workspace/zx/HADAR_database/Scene9/GroundTruth/vMap/vMap_R_0003.npy is saved\n",
      "/home/ljm/workspace/zx/HADAR_database/Scene9/GroundTruth/vMap/vMap_L_0001.npy is saved\n",
      "/home/ljm/workspace/zx/HADAR_database/Scene9/GroundTruth/vMap/vMap_R_0001.npy is saved\n",
      "/home/ljm/workspace/zx/HADAR_database/Scene9/GroundTruth/vMap/vMap_R_0004.npy is saved\n",
      "/home/ljm/workspace/zx/HADAR_database/Scene9/GroundTruth/vMap/vMap_L_0003.npy is saved\n",
      "/home/ljm/workspace/zx/HADAR_database/Scene9/GroundTruth/vMap/vMap_L_0002.npy is saved\n",
      "/home/ljm/workspace/zx/HADAR_database/Scene9/GroundTruth/vMap/vMap_L_0005.npy is saved\n",
      "/home/ljm/workspace/zx/HADAR_database/Scene9/GroundTruth/vMap/vMap_R_0005.npy is saved\n",
      "/home/ljm/workspace/zx/HADAR_database/Scene9/GroundTruth/vMap/vMap_R_0002.npy is saved\n",
      "/home/ljm/workspace/zx/HADAR_database/Scene9/GroundTruth/vMap/vMap_L_0004.npy is saved\n",
      "/home/ljm/workspace/zx/HADAR_database/Scene10/GroundTruth/vMap/vMap_R_0003.npy is saved\n",
      "/home/ljm/workspace/zx/HADAR_database/Scene10/GroundTruth/vMap/vMap_L_0001.npy is saved\n",
      "/home/ljm/workspace/zx/HADAR_database/Scene10/GroundTruth/vMap/vMap_R_0001.npy is saved\n",
      "/home/ljm/workspace/zx/HADAR_database/Scene10/GroundTruth/vMap/vMap_R_0004.npy is saved\n",
      "/home/ljm/workspace/zx/HADAR_database/Scene10/GroundTruth/vMap/vMap_L_0003.npy is saved\n",
      "/home/ljm/workspace/zx/HADAR_database/Scene10/GroundTruth/vMap/vMap_L_0002.npy is saved\n",
      "/home/ljm/workspace/zx/HADAR_database/Scene10/GroundTruth/vMap/vMap_L_0005.npy is saved\n",
      "/home/ljm/workspace/zx/HADAR_database/Scene10/GroundTruth/vMap/vMap_R_0005.npy is saved\n",
      "/home/ljm/workspace/zx/HADAR_database/Scene10/GroundTruth/vMap/vMap_R_0002.npy is saved\n",
      "/home/ljm/workspace/zx/HADAR_database/Scene10/GroundTruth/vMap/vMap_L_0004.npy is saved\n",
      "/home/ljm/workspace/zx/HADAR_database/Scene11/GroundTruth/vMap/vMap_0002.npy is saved\n",
      "/home/ljm/workspace/zx/HADAR_database/Scene11/GroundTruth/vMap/vMap_0004.npy is saved\n",
      "/home/ljm/workspace/zx/HADAR_database/Scene11/GroundTruth/vMap/vMap_0003.npy is saved\n",
      "/home/ljm/workspace/zx/HADAR_database/Scene11/GroundTruth/vMap/vMap_0001.npy is saved\n"
     ]
    }
   ],
   "source": [
    "matfile = ''\n",
    "root = '/home/ljm/workspace/zx/HADAR_database/'\n",
    "for i in list(range(1,12)):\n",
    "    filename = os.listdir(os.path.join(root, f'Scene{i}', 'GroundTruth', 'vMap'))\n",
    "    for file in filename:\n",
    "        if file[-3:] == 'mat':\n",
    "            matfile = os.path.join(root, f'Scene{i}', 'GroundTruth', 'vMap') + '/' + file\n",
    "            data = scio.loadmat(matfile)[\"vMap\"]  \n",
    "            out_filename = matfile[:-3] + 'npy'\n",
    "            np.save(out_filename, data)\n",
    "            # print(np.load(out_filename) == data)\n",
    "            print(out_filename + ' is saved')"
   ]
  },
  {
   "cell_type": "markdown",
   "metadata": {},
   "source": []
  },
  {
   "cell_type": "markdown",
   "metadata": {},
   "source": [
    "### .mat to .npy\n",
    "读取.mat"
   ]
  },
  {
   "cell_type": "code",
   "execution_count": 5,
   "metadata": {},
   "outputs": [
    {
     "name": "stdout",
     "output_type": "stream",
     "text": [
      "1.5963153839111328\n"
     ]
    }
   ],
   "source": [
    "import time\n",
    "file = '/home/ljm/workspace/zx/HADAR_database/Scene1/HeatCubes/L_0001_heatcube.mat'\n",
    "mat_start_time = time.time()\n",
    "mat = scio.loadmat(file)[\"S\"]\n",
    "mat_end_time = time.time()\n",
    "print(mat_end_time - mat_start_time)\n"
   ]
  },
  {
   "cell_type": "markdown",
   "metadata": {},
   "source": [
    "保存.npy"
   ]
  },
  {
   "cell_type": "code",
   "execution_count": 9,
   "metadata": {},
   "outputs": [],
   "source": [
    "save_dir = '/home/ljm/workspace/zx/HADAR_database1/Scene1/HeatCubes/'\n",
    "if not os.path.exists(save_dir):\n",
    "    os.makedirs(save_dir)\n",
    "np.save(os.path.join(save_dir, 'L_0001_heatcube.npy'), mat)"
   ]
  },
  {
   "cell_type": "code",
   "execution_count": 11,
   "metadata": {},
   "outputs": [
    {
     "name": "stdout",
     "output_type": "stream",
     "text": [
      "0.2799663543701172\n"
     ]
    }
   ],
   "source": [
    "npy_start_time = time.time()\n",
    "npy = np.load(os.path.join(save_dir, 'L_0001_heatcube.npy'))\n",
    "npy_end_time = time.time()\n",
    "print(npy_end_time - npy_start_time)"
   ]
  },
  {
   "cell_type": "code",
   "execution_count": 12,
   "metadata": {},
   "outputs": [
    {
     "data": {
      "text/plain": [
       "array([[[ True,  True,  True, ...,  True,  True,  True],\n",
       "        [ True,  True,  True, ...,  True,  True,  True],\n",
       "        [ True,  True,  True, ...,  True,  True,  True],\n",
       "        ...,\n",
       "        [ True,  True,  True, ...,  True,  True,  True],\n",
       "        [ True,  True,  True, ...,  True,  True,  True],\n",
       "        [ True,  True,  True, ...,  True,  True,  True]],\n",
       "\n",
       "       [[ True,  True,  True, ...,  True,  True,  True],\n",
       "        [ True,  True,  True, ...,  True,  True,  True],\n",
       "        [ True,  True,  True, ...,  True,  True,  True],\n",
       "        ...,\n",
       "        [ True,  True,  True, ...,  True,  True,  True],\n",
       "        [ True,  True,  True, ...,  True,  True,  True],\n",
       "        [ True,  True,  True, ...,  True,  True,  True]],\n",
       "\n",
       "       [[ True,  True,  True, ...,  True,  True,  True],\n",
       "        [ True,  True,  True, ...,  True,  True,  True],\n",
       "        [ True,  True,  True, ...,  True,  True,  True],\n",
       "        ...,\n",
       "        [ True,  True,  True, ...,  True,  True,  True],\n",
       "        [ True,  True,  True, ...,  True,  True,  True],\n",
       "        [ True,  True,  True, ...,  True,  True,  True]],\n",
       "\n",
       "       ...,\n",
       "\n",
       "       [[ True,  True,  True, ...,  True,  True,  True],\n",
       "        [ True,  True,  True, ...,  True,  True,  True],\n",
       "        [ True,  True,  True, ...,  True,  True,  True],\n",
       "        ...,\n",
       "        [ True,  True,  True, ...,  True,  True,  True],\n",
       "        [ True,  True,  True, ...,  True,  True,  True],\n",
       "        [ True,  True,  True, ...,  True,  True,  True]],\n",
       "\n",
       "       [[ True,  True,  True, ...,  True,  True,  True],\n",
       "        [ True,  True,  True, ...,  True,  True,  True],\n",
       "        [ True,  True,  True, ...,  True,  True,  True],\n",
       "        ...,\n",
       "        [ True,  True,  True, ...,  True,  True,  True],\n",
       "        [ True,  True,  True, ...,  True,  True,  True],\n",
       "        [ True,  True,  True, ...,  True,  True,  True]],\n",
       "\n",
       "       [[ True,  True,  True, ...,  True,  True,  True],\n",
       "        [ True,  True,  True, ...,  True,  True,  True],\n",
       "        [ True,  True,  True, ...,  True,  True,  True],\n",
       "        ...,\n",
       "        [ True,  True,  True, ...,  True,  True,  True],\n",
       "        [ True,  True,  True, ...,  True,  True,  True],\n",
       "        [ True,  True,  True, ...,  True,  True,  True]]])"
      ]
     },
     "execution_count": 12,
     "metadata": {},
     "output_type": "execute_result"
    }
   ],
   "source": [
    "npy == mat"
   ]
  },
  {
   "cell_type": "markdown",
   "metadata": {},
   "source": [
    "## 读取mat文件名列表"
   ]
  },
  {
   "cell_type": "code",
   "execution_count": 2,
   "metadata": {},
   "outputs": [
    {
     "name": "stdout",
     "output_type": "stream",
     "text": [
      "['/mnt/Disk/zx/HADAR/HADAR_database/Scene1/HeatCubes/R_0001_heatcube.mat', '/mnt/Disk/zx/HADAR/HADAR_database/Scene1/HeatCubes/L_0001_heatcube.mat', '/mnt/Disk/zx/HADAR/HADAR_database/Scene1/HeatCubes/R_0004_heatcube.mat', '/mnt/Disk/zx/HADAR/HADAR_database/Scene1/HeatCubes/R_0002_heatcube.mat', '/mnt/Disk/zx/HADAR/HADAR_database/Scene1/HeatCubes/R_0003_heatcube.mat', '/mnt/Disk/zx/HADAR/HADAR_database/Scene1/HeatCubes/L_0005_heatcube.mat', '/mnt/Disk/zx/HADAR/HADAR_database/Scene1/HeatCubes/L_0003_heatcube.mat', '/mnt/Disk/zx/HADAR/HADAR_database/Scene1/HeatCubes/L_0002_heatcube.mat', '/mnt/Disk/zx/HADAR/HADAR_database/Scene1/HeatCubes/L_0004_heatcube.mat', '/mnt/Disk/zx/HADAR/HADAR_database/Scene1/HeatCubes/R_0005_heatcube.mat', '/mnt/Disk/zx/HADAR/HADAR_database/Scene2/HeatCubes/R_0001_heatcube.mat', '/mnt/Disk/zx/HADAR/HADAR_database/Scene2/HeatCubes/L_0001_heatcube.mat', '/mnt/Disk/zx/HADAR/HADAR_database/Scene2/HeatCubes/R_0004_heatcube.mat', '/mnt/Disk/zx/HADAR/HADAR_database/Scene2/HeatCubes/R_0002_heatcube.mat', '/mnt/Disk/zx/HADAR/HADAR_database/Scene2/HeatCubes/R_0003_heatcube.mat', '/mnt/Disk/zx/HADAR/HADAR_database/Scene2/HeatCubes/L_0005_heatcube.mat', '/mnt/Disk/zx/HADAR/HADAR_database/Scene2/HeatCubes/L_0003_heatcube.mat', '/mnt/Disk/zx/HADAR/HADAR_database/Scene2/HeatCubes/L_0002_heatcube.mat', '/mnt/Disk/zx/HADAR/HADAR_database/Scene2/HeatCubes/L_0004_heatcube.mat', '/mnt/Disk/zx/HADAR/HADAR_database/Scene2/HeatCubes/R_0005_heatcube.mat', '/mnt/Disk/zx/HADAR/HADAR_database/Scene3/HeatCubes/R_0001_heatcube.mat', '/mnt/Disk/zx/HADAR/HADAR_database/Scene3/HeatCubes/L_0001_heatcube.mat', '/mnt/Disk/zx/HADAR/HADAR_database/Scene3/HeatCubes/R_0004_heatcube.mat', '/mnt/Disk/zx/HADAR/HADAR_database/Scene3/HeatCubes/R_0002_heatcube.mat', '/mnt/Disk/zx/HADAR/HADAR_database/Scene3/HeatCubes/R_0003_heatcube.mat', '/mnt/Disk/zx/HADAR/HADAR_database/Scene3/HeatCubes/L_0005_heatcube.mat', '/mnt/Disk/zx/HADAR/HADAR_database/Scene3/HeatCubes/L_0003_heatcube.mat', '/mnt/Disk/zx/HADAR/HADAR_database/Scene3/HeatCubes/L_0002_heatcube.mat', '/mnt/Disk/zx/HADAR/HADAR_database/Scene3/HeatCubes/L_0004_heatcube.mat', '/mnt/Disk/zx/HADAR/HADAR_database/Scene3/HeatCubes/R_0005_heatcube.mat', '/mnt/Disk/zx/HADAR/HADAR_database/Scene4/HeatCubes/R_0001_heatcube.mat', '/mnt/Disk/zx/HADAR/HADAR_database/Scene4/HeatCubes/L_0001_heatcube.mat', '/mnt/Disk/zx/HADAR/HADAR_database/Scene4/HeatCubes/R_0004_heatcube.mat', '/mnt/Disk/zx/HADAR/HADAR_database/Scene4/HeatCubes/R_0002_heatcube.mat', '/mnt/Disk/zx/HADAR/HADAR_database/Scene4/HeatCubes/R_0003_heatcube.mat', '/mnt/Disk/zx/HADAR/HADAR_database/Scene4/HeatCubes/L_0005_heatcube.mat', '/mnt/Disk/zx/HADAR/HADAR_database/Scene4/HeatCubes/L_0003_heatcube.mat', '/mnt/Disk/zx/HADAR/HADAR_database/Scene4/HeatCubes/L_0002_heatcube.mat', '/mnt/Disk/zx/HADAR/HADAR_database/Scene4/HeatCubes/L_0004_heatcube.mat', '/mnt/Disk/zx/HADAR/HADAR_database/Scene4/HeatCubes/R_0005_heatcube.mat', '/mnt/Disk/zx/HADAR/HADAR_database/Scene5/HeatCubes/R_0001_heatcube.mat', '/mnt/Disk/zx/HADAR/HADAR_database/Scene5/HeatCubes/L_0001_heatcube.mat', '/mnt/Disk/zx/HADAR/HADAR_database/Scene5/HeatCubes/R_0004_heatcube.mat', '/mnt/Disk/zx/HADAR/HADAR_database/Scene5/HeatCubes/R_0002_heatcube.mat', '/mnt/Disk/zx/HADAR/HADAR_database/Scene5/HeatCubes/R_0003_heatcube.mat', '/mnt/Disk/zx/HADAR/HADAR_database/Scene5/HeatCubes/L_0005_heatcube.mat', '/mnt/Disk/zx/HADAR/HADAR_database/Scene5/HeatCubes/L_0003_heatcube.mat', '/mnt/Disk/zx/HADAR/HADAR_database/Scene5/HeatCubes/L_0002_heatcube.mat', '/mnt/Disk/zx/HADAR/HADAR_database/Scene5/HeatCubes/L_0004_heatcube.mat', '/mnt/Disk/zx/HADAR/HADAR_database/Scene5/HeatCubes/R_0005_heatcube.mat', '/mnt/Disk/zx/HADAR/HADAR_database/Scene6/HeatCubes/R_0001_heatcube.mat', '/mnt/Disk/zx/HADAR/HADAR_database/Scene6/HeatCubes/L_0001_heatcube.mat', '/mnt/Disk/zx/HADAR/HADAR_database/Scene6/HeatCubes/R_0004_heatcube.mat', '/mnt/Disk/zx/HADAR/HADAR_database/Scene6/HeatCubes/R_0002_heatcube.mat', '/mnt/Disk/zx/HADAR/HADAR_database/Scene6/HeatCubes/R_0003_heatcube.mat', '/mnt/Disk/zx/HADAR/HADAR_database/Scene6/HeatCubes/L_0005_heatcube.mat', '/mnt/Disk/zx/HADAR/HADAR_database/Scene6/HeatCubes/L_0003_heatcube.mat', '/mnt/Disk/zx/HADAR/HADAR_database/Scene6/HeatCubes/L_0002_heatcube.mat', '/mnt/Disk/zx/HADAR/HADAR_database/Scene6/HeatCubes/L_0004_heatcube.mat', '/mnt/Disk/zx/HADAR/HADAR_database/Scene6/HeatCubes/R_0005_heatcube.mat', '/mnt/Disk/zx/HADAR/HADAR_database/Scene7/HeatCubes/R_0001_heatcube.mat', '/mnt/Disk/zx/HADAR/HADAR_database/Scene7/HeatCubes/L_0001_heatcube.mat', '/mnt/Disk/zx/HADAR/HADAR_database/Scene7/HeatCubes/R_0004_heatcube.mat', '/mnt/Disk/zx/HADAR/HADAR_database/Scene7/HeatCubes/R_0002_heatcube.mat', '/mnt/Disk/zx/HADAR/HADAR_database/Scene7/HeatCubes/R_0003_heatcube.mat', '/mnt/Disk/zx/HADAR/HADAR_database/Scene7/HeatCubes/L_0005_heatcube.mat', '/mnt/Disk/zx/HADAR/HADAR_database/Scene7/HeatCubes/L_0003_heatcube.mat', '/mnt/Disk/zx/HADAR/HADAR_database/Scene7/HeatCubes/L_0002_heatcube.mat', '/mnt/Disk/zx/HADAR/HADAR_database/Scene7/HeatCubes/L_0004_heatcube.mat', '/mnt/Disk/zx/HADAR/HADAR_database/Scene7/HeatCubes/R_0005_heatcube.mat', '/mnt/Disk/zx/HADAR/HADAR_database/Scene8/HeatCubes/R_0001_heatcube.mat', '/mnt/Disk/zx/HADAR/HADAR_database/Scene8/HeatCubes/L_0001_heatcube.mat', '/mnt/Disk/zx/HADAR/HADAR_database/Scene8/HeatCubes/R_0004_heatcube.mat', '/mnt/Disk/zx/HADAR/HADAR_database/Scene8/HeatCubes/R_0002_heatcube.mat', '/mnt/Disk/zx/HADAR/HADAR_database/Scene8/HeatCubes/R_0003_heatcube.mat', '/mnt/Disk/zx/HADAR/HADAR_database/Scene8/HeatCubes/L_0005_heatcube.mat', '/mnt/Disk/zx/HADAR/HADAR_database/Scene8/HeatCubes/L_0003_heatcube.mat', '/mnt/Disk/zx/HADAR/HADAR_database/Scene8/HeatCubes/L_0002_heatcube.mat', '/mnt/Disk/zx/HADAR/HADAR_database/Scene8/HeatCubes/L_0004_heatcube.mat', '/mnt/Disk/zx/HADAR/HADAR_database/Scene8/HeatCubes/R_0005_heatcube.mat', '/mnt/Disk/zx/HADAR/HADAR_database/Scene9/HeatCubes/R_0001_heatcube.mat', '/mnt/Disk/zx/HADAR/HADAR_database/Scene9/HeatCubes/L_0001_heatcube.mat', '/mnt/Disk/zx/HADAR/HADAR_database/Scene9/HeatCubes/R_0004_heatcube.mat', '/mnt/Disk/zx/HADAR/HADAR_database/Scene9/HeatCubes/R_0002_heatcube.mat', '/mnt/Disk/zx/HADAR/HADAR_database/Scene9/HeatCubes/R_0003_heatcube.mat', '/mnt/Disk/zx/HADAR/HADAR_database/Scene9/HeatCubes/L_0005_heatcube.mat', '/mnt/Disk/zx/HADAR/HADAR_database/Scene9/HeatCubes/L_0003_heatcube.mat', '/mnt/Disk/zx/HADAR/HADAR_database/Scene9/HeatCubes/L_0002_heatcube.mat', '/mnt/Disk/zx/HADAR/HADAR_database/Scene9/HeatCubes/L_0004_heatcube.mat', '/mnt/Disk/zx/HADAR/HADAR_database/Scene9/HeatCubes/R_0005_heatcube.mat', '/mnt/Disk/zx/HADAR/HADAR_database/Scene10/HeatCubes/R_0001_heatcube.mat', '/mnt/Disk/zx/HADAR/HADAR_database/Scene10/HeatCubes/L_0001_heatcube.mat', '/mnt/Disk/zx/HADAR/HADAR_database/Scene10/HeatCubes/R_0004_heatcube.mat', '/mnt/Disk/zx/HADAR/HADAR_database/Scene10/HeatCubes/R_0002_heatcube.mat', '/mnt/Disk/zx/HADAR/HADAR_database/Scene10/HeatCubes/R_0003_heatcube.mat', '/mnt/Disk/zx/HADAR/HADAR_database/Scene10/HeatCubes/L_0005_heatcube.mat', '/mnt/Disk/zx/HADAR/HADAR_database/Scene10/HeatCubes/L_0003_heatcube.mat', '/mnt/Disk/zx/HADAR/HADAR_database/Scene10/HeatCubes/L_0002_heatcube.mat', '/mnt/Disk/zx/HADAR/HADAR_database/Scene10/HeatCubes/L_0004_heatcube.mat', '/mnt/Disk/zx/HADAR/HADAR_database/Scene10/HeatCubes/R_0005_heatcube.mat']\n",
      "100\n"
     ]
    }
   ],
   "source": [
    "matfile = []\n",
    "root = '~/workspace/zx/HADAR_database/'\n",
    "for i in list(range(1,11)):\n",
    "    filename = os.listdir(os.path.join(root, f'Scene{i}', 'HeatCubes'))\n",
    "# print(filename)\n",
    "# print(len(filename))\n",
    "    for file in filename:\n",
    "        if file[-3:] == 'mat':\n",
    "            matfile.append(os.path.join(root, f'Scene{i}', 'HeatCubes') + '/' + file)\n",
    "print(matfile)\n",
    "print(len(matfile))"
   ]
  }
 ],
 "metadata": {
  "kernelspec": {
   "display_name": "texnet",
   "language": "python",
   "name": "python3"
  },
  "language_info": {
   "codemirror_mode": {
    "name": "ipython",
    "version": 3
   },
   "file_extension": ".py",
   "mimetype": "text/x-python",
   "name": "python",
   "nbconvert_exporter": "python",
   "pygments_lexer": "ipython3",
   "version": "3.10.4"
  }
 },
 "nbformat": 4,
 "nbformat_minor": 2
}
