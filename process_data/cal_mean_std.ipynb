{
 "cells": [
  {
   "cell_type": "code",
   "execution_count": 1,
   "metadata": {},
   "outputs": [],
   "source": [
    "import numpy as np\n",
    "import os\n",
    "import scipy.io as scio"
   ]
  },
  {
   "cell_type": "markdown",
   "metadata": {},
   "source": [
    "## 读取mat文件名列表"
   ]
  },
  {
   "cell_type": "code",
   "execution_count": 2,
   "metadata": {},
   "outputs": [
    {
     "name": "stdout",
     "output_type": "stream",
     "text": [
      "['/mnt/Disk/zx/HADAR/HADAR_database_6/Scene1/HeatCubes/R_0001_heatcube.mat', '/mnt/Disk/zx/HADAR/HADAR_database_6/Scene1/HeatCubes/L_0001_heatcube.mat', '/mnt/Disk/zx/HADAR/HADAR_database_6/Scene1/HeatCubes/R_0004_heatcube.mat', '/mnt/Disk/zx/HADAR/HADAR_database_6/Scene1/HeatCubes/R_0002_heatcube.mat', '/mnt/Disk/zx/HADAR/HADAR_database_6/Scene1/HeatCubes/R_0003_heatcube.mat', '/mnt/Disk/zx/HADAR/HADAR_database_6/Scene1/HeatCubes/L_0005_heatcube.mat', '/mnt/Disk/zx/HADAR/HADAR_database_6/Scene1/HeatCubes/L_0003_heatcube.mat', '/mnt/Disk/zx/HADAR/HADAR_database_6/Scene1/HeatCubes/L_0002_heatcube.mat', '/mnt/Disk/zx/HADAR/HADAR_database_6/Scene1/HeatCubes/L_0004_heatcube.mat', '/mnt/Disk/zx/HADAR/HADAR_database_6/Scene1/HeatCubes/R_0005_heatcube.mat', '/mnt/Disk/zx/HADAR/HADAR_database_6/Scene2/HeatCubes/R_0001_heatcube.mat', '/mnt/Disk/zx/HADAR/HADAR_database_6/Scene2/HeatCubes/L_0001_heatcube.mat', '/mnt/Disk/zx/HADAR/HADAR_database_6/Scene2/HeatCubes/R_0004_heatcube.mat', '/mnt/Disk/zx/HADAR/HADAR_database_6/Scene2/HeatCubes/R_0002_heatcube.mat', '/mnt/Disk/zx/HADAR/HADAR_database_6/Scene2/HeatCubes/R_0003_heatcube.mat', '/mnt/Disk/zx/HADAR/HADAR_database_6/Scene2/HeatCubes/L_0005_heatcube.mat', '/mnt/Disk/zx/HADAR/HADAR_database_6/Scene2/HeatCubes/L_0003_heatcube.mat', '/mnt/Disk/zx/HADAR/HADAR_database_6/Scene2/HeatCubes/L_0002_heatcube.mat', '/mnt/Disk/zx/HADAR/HADAR_database_6/Scene2/HeatCubes/L_0004_heatcube.mat', '/mnt/Disk/zx/HADAR/HADAR_database_6/Scene2/HeatCubes/R_0005_heatcube.mat', '/mnt/Disk/zx/HADAR/HADAR_database_6/Scene3/HeatCubes/R_0001_heatcube.mat', '/mnt/Disk/zx/HADAR/HADAR_database_6/Scene3/HeatCubes/L_0001_heatcube.mat', '/mnt/Disk/zx/HADAR/HADAR_database_6/Scene3/HeatCubes/R_0004_heatcube.mat', '/mnt/Disk/zx/HADAR/HADAR_database_6/Scene3/HeatCubes/R_0002_heatcube.mat', '/mnt/Disk/zx/HADAR/HADAR_database_6/Scene3/HeatCubes/R_0003_heatcube.mat', '/mnt/Disk/zx/HADAR/HADAR_database_6/Scene3/HeatCubes/L_0005_heatcube.mat', '/mnt/Disk/zx/HADAR/HADAR_database_6/Scene3/HeatCubes/L_0003_heatcube.mat', '/mnt/Disk/zx/HADAR/HADAR_database_6/Scene3/HeatCubes/L_0002_heatcube.mat', '/mnt/Disk/zx/HADAR/HADAR_database_6/Scene3/HeatCubes/L_0004_heatcube.mat', '/mnt/Disk/zx/HADAR/HADAR_database_6/Scene3/HeatCubes/R_0005_heatcube.mat', '/mnt/Disk/zx/HADAR/HADAR_database_6/Scene4/HeatCubes/R_0001_heatcube.mat', '/mnt/Disk/zx/HADAR/HADAR_database_6/Scene4/HeatCubes/L_0001_heatcube.mat', '/mnt/Disk/zx/HADAR/HADAR_database_6/Scene4/HeatCubes/R_0004_heatcube.mat', '/mnt/Disk/zx/HADAR/HADAR_database_6/Scene4/HeatCubes/R_0002_heatcube.mat', '/mnt/Disk/zx/HADAR/HADAR_database_6/Scene4/HeatCubes/R_0003_heatcube.mat', '/mnt/Disk/zx/HADAR/HADAR_database_6/Scene4/HeatCubes/L_0005_heatcube.mat', '/mnt/Disk/zx/HADAR/HADAR_database_6/Scene4/HeatCubes/L_0003_heatcube.mat', '/mnt/Disk/zx/HADAR/HADAR_database_6/Scene4/HeatCubes/L_0002_heatcube.mat', '/mnt/Disk/zx/HADAR/HADAR_database_6/Scene4/HeatCubes/L_0004_heatcube.mat', '/mnt/Disk/zx/HADAR/HADAR_database_6/Scene4/HeatCubes/R_0005_heatcube.mat', '/mnt/Disk/zx/HADAR/HADAR_database_6/Scene5/HeatCubes/R_0001_heatcube.mat', '/mnt/Disk/zx/HADAR/HADAR_database_6/Scene5/HeatCubes/L_0001_heatcube.mat', '/mnt/Disk/zx/HADAR/HADAR_database_6/Scene5/HeatCubes/R_0004_heatcube.mat', '/mnt/Disk/zx/HADAR/HADAR_database_6/Scene5/HeatCubes/R_0002_heatcube.mat', '/mnt/Disk/zx/HADAR/HADAR_database_6/Scene5/HeatCubes/R_0003_heatcube.mat', '/mnt/Disk/zx/HADAR/HADAR_database_6/Scene5/HeatCubes/L_0005_heatcube.mat', '/mnt/Disk/zx/HADAR/HADAR_database_6/Scene5/HeatCubes/L_0003_heatcube.mat', '/mnt/Disk/zx/HADAR/HADAR_database_6/Scene5/HeatCubes/L_0002_heatcube.mat', '/mnt/Disk/zx/HADAR/HADAR_database_6/Scene5/HeatCubes/L_0004_heatcube.mat', '/mnt/Disk/zx/HADAR/HADAR_database_6/Scene5/HeatCubes/R_0005_heatcube.mat', '/mnt/Disk/zx/HADAR/HADAR_database_6/Scene6/HeatCubes/R_0001_heatcube.mat', '/mnt/Disk/zx/HADAR/HADAR_database_6/Scene6/HeatCubes/L_0001_heatcube.mat', '/mnt/Disk/zx/HADAR/HADAR_database_6/Scene6/HeatCubes/R_0004_heatcube.mat', '/mnt/Disk/zx/HADAR/HADAR_database_6/Scene6/HeatCubes/R_0002_heatcube.mat', '/mnt/Disk/zx/HADAR/HADAR_database_6/Scene6/HeatCubes/R_0003_heatcube.mat', '/mnt/Disk/zx/HADAR/HADAR_database_6/Scene6/HeatCubes/L_0005_heatcube.mat', '/mnt/Disk/zx/HADAR/HADAR_database_6/Scene6/HeatCubes/L_0003_heatcube.mat', '/mnt/Disk/zx/HADAR/HADAR_database_6/Scene6/HeatCubes/L_0002_heatcube.mat', '/mnt/Disk/zx/HADAR/HADAR_database_6/Scene6/HeatCubes/L_0004_heatcube.mat', '/mnt/Disk/zx/HADAR/HADAR_database_6/Scene6/HeatCubes/R_0005_heatcube.mat', '/mnt/Disk/zx/HADAR/HADAR_database_6/Scene7/HeatCubes/R_0001_heatcube.mat', '/mnt/Disk/zx/HADAR/HADAR_database_6/Scene7/HeatCubes/L_0001_heatcube.mat', '/mnt/Disk/zx/HADAR/HADAR_database_6/Scene7/HeatCubes/R_0004_heatcube.mat', '/mnt/Disk/zx/HADAR/HADAR_database_6/Scene7/HeatCubes/R_0002_heatcube.mat', '/mnt/Disk/zx/HADAR/HADAR_database_6/Scene7/HeatCubes/R_0003_heatcube.mat', '/mnt/Disk/zx/HADAR/HADAR_database_6/Scene7/HeatCubes/L_0005_heatcube.mat', '/mnt/Disk/zx/HADAR/HADAR_database_6/Scene7/HeatCubes/L_0003_heatcube.mat', '/mnt/Disk/zx/HADAR/HADAR_database_6/Scene7/HeatCubes/L_0002_heatcube.mat', '/mnt/Disk/zx/HADAR/HADAR_database_6/Scene7/HeatCubes/L_0004_heatcube.mat', '/mnt/Disk/zx/HADAR/HADAR_database_6/Scene7/HeatCubes/R_0005_heatcube.mat', '/mnt/Disk/zx/HADAR/HADAR_database_6/Scene8/HeatCubes/R_0001_heatcube.mat', '/mnt/Disk/zx/HADAR/HADAR_database_6/Scene8/HeatCubes/L_0001_heatcube.mat', '/mnt/Disk/zx/HADAR/HADAR_database_6/Scene8/HeatCubes/R_0004_heatcube.mat', '/mnt/Disk/zx/HADAR/HADAR_database_6/Scene8/HeatCubes/R_0002_heatcube.mat', '/mnt/Disk/zx/HADAR/HADAR_database_6/Scene8/HeatCubes/R_0003_heatcube.mat', '/mnt/Disk/zx/HADAR/HADAR_database_6/Scene8/HeatCubes/L_0005_heatcube.mat', '/mnt/Disk/zx/HADAR/HADAR_database_6/Scene8/HeatCubes/L_0003_heatcube.mat', '/mnt/Disk/zx/HADAR/HADAR_database_6/Scene8/HeatCubes/L_0002_heatcube.mat', '/mnt/Disk/zx/HADAR/HADAR_database_6/Scene8/HeatCubes/L_0004_heatcube.mat', '/mnt/Disk/zx/HADAR/HADAR_database_6/Scene8/HeatCubes/R_0005_heatcube.mat', '/mnt/Disk/zx/HADAR/HADAR_database_6/Scene9/HeatCubes/R_0001_heatcube.mat', '/mnt/Disk/zx/HADAR/HADAR_database_6/Scene9/HeatCubes/L_0001_heatcube.mat', '/mnt/Disk/zx/HADAR/HADAR_database_6/Scene9/HeatCubes/R_0004_heatcube.mat', '/mnt/Disk/zx/HADAR/HADAR_database_6/Scene9/HeatCubes/R_0002_heatcube.mat', '/mnt/Disk/zx/HADAR/HADAR_database_6/Scene9/HeatCubes/R_0003_heatcube.mat', '/mnt/Disk/zx/HADAR/HADAR_database_6/Scene9/HeatCubes/L_0005_heatcube.mat', '/mnt/Disk/zx/HADAR/HADAR_database_6/Scene9/HeatCubes/L_0003_heatcube.mat', '/mnt/Disk/zx/HADAR/HADAR_database_6/Scene9/HeatCubes/L_0002_heatcube.mat', '/mnt/Disk/zx/HADAR/HADAR_database_6/Scene9/HeatCubes/L_0004_heatcube.mat', '/mnt/Disk/zx/HADAR/HADAR_database_6/Scene9/HeatCubes/R_0005_heatcube.mat', '/mnt/Disk/zx/HADAR/HADAR_database_6/Scene10/HeatCubes/R_0001_heatcube.mat', '/mnt/Disk/zx/HADAR/HADAR_database_6/Scene10/HeatCubes/L_0001_heatcube.mat', '/mnt/Disk/zx/HADAR/HADAR_database_6/Scene10/HeatCubes/R_0004_heatcube.mat', '/mnt/Disk/zx/HADAR/HADAR_database_6/Scene10/HeatCubes/R_0002_heatcube.mat', '/mnt/Disk/zx/HADAR/HADAR_database_6/Scene10/HeatCubes/R_0003_heatcube.mat', '/mnt/Disk/zx/HADAR/HADAR_database_6/Scene10/HeatCubes/L_0005_heatcube.mat', '/mnt/Disk/zx/HADAR/HADAR_database_6/Scene10/HeatCubes/L_0003_heatcube.mat', '/mnt/Disk/zx/HADAR/HADAR_database_6/Scene10/HeatCubes/L_0002_heatcube.mat', '/mnt/Disk/zx/HADAR/HADAR_database_6/Scene10/HeatCubes/L_0004_heatcube.mat', '/mnt/Disk/zx/HADAR/HADAR_database_6/Scene10/HeatCubes/R_0005_heatcube.mat']\n",
      "100\n"
     ]
    }
   ],
   "source": [
    "matfile = []\n",
    "root = '/mnt/Disk/zx/HADAR/HADAR_database_6'\n",
    "for i in list(range(1,11)):\n",
    "    filename = os.listdir(os.path.join(root, f'Scene{i}', 'HeatCubes'))\n",
    "# print(filename)\n",
    "# print(len(filename))\n",
    "    for file in filename:\n",
    "        if file[-3:] == 'mat':\n",
    "            matfile.append(os.path.join(root, f'Scene{i}', 'HeatCubes') + '/' + file)\n",
    "print(matfile)\n",
    "print(len(matfile))"
   ]
  },
  {
   "cell_type": "markdown",
   "metadata": {},
   "source": [
    "## 计算均值和方差"
   ]
  },
  {
   "cell_type": "markdown",
   "metadata": {},
   "source": [
    "### 读取数据\n",
    "读取后为np.array, dtype = float32"
   ]
  },
  {
   "cell_type": "code",
   "execution_count": 3,
   "metadata": {},
   "outputs": [
    {
     "name": "stdout",
     "output_type": "stream",
     "text": [
      "(100, 1080, 1920, 6)\n"
     ]
    }
   ],
   "source": [
    "data = []\n",
    "for mat in matfile:\n",
    "    sub_data = scio.loadmat(mat)[\"S\"]\n",
    "    # sub_data = np.load(mat[:-3] + 'npy')\n",
    "    data.append(sub_data)\n",
    "data = np.array(data)\n",
    "print(data.shape)\n"
   ]
  },
  {
   "cell_type": "markdown",
   "metadata": {},
   "source": [
    "### 循环计算\n",
    "计算缓慢，但占用内存较少，numpy的均值算得准，std偶尔由于精度问题偶尔不准，以此结果为基准"
   ]
  },
  {
   "cell_type": "code",
   "execution_count": 6,
   "metadata": {},
   "outputs": [
    {
     "name": "stdout",
     "output_type": "stream",
     "text": [
      "(6, 100, 1080, 1920)\n"
     ]
    }
   ],
   "source": [
    "data_ = np.transpose(data, [3, 0, 1, 2])\n",
    "print(data_.shape)"
   ]
  },
  {
   "cell_type": "code",
   "execution_count": 7,
   "metadata": {},
   "outputs": [
    {
     "name": "stdout",
     "output_type": "stream",
     "text": [
      "0.115169354 1.0981503\n"
     ]
    },
    {
     "ename": "KeyboardInterrupt",
     "evalue": "",
     "output_type": "error",
     "traceback": [
      "\u001b[0;31m---------------------------------------------------------------------------\u001b[0m",
      "\u001b[0;31mKeyboardInterrupt\u001b[0m                         Traceback (most recent call last)",
      "Input \u001b[0;32mIn [7]\u001b[0m, in \u001b[0;36m<cell line: 3>\u001b[0;34m()\u001b[0m\n\u001b[1;32m      6\u001b[0m     \u001b[38;5;28;01mfor\u001b[39;00m k \u001b[38;5;129;01min\u001b[39;00m \u001b[38;5;28mrange\u001b[39m(data_\u001b[38;5;241m.\u001b[39mshape[\u001b[38;5;241m2\u001b[39m]):\n\u001b[1;32m      7\u001b[0m         \u001b[38;5;28;01mfor\u001b[39;00m l \u001b[38;5;129;01min\u001b[39;00m \u001b[38;5;28mrange\u001b[39m(data_\u001b[38;5;241m.\u001b[39mshape[\u001b[38;5;241m3\u001b[39m]):\n\u001b[0;32m----> 8\u001b[0m             \u001b[43mtemp\u001b[49m\u001b[38;5;241;43m.\u001b[39;49m\u001b[43mappend\u001b[49m\u001b[43m(\u001b[49m\u001b[43mdata_\u001b[49m\u001b[43m[\u001b[49m\u001b[43mi\u001b[49m\u001b[43m]\u001b[49m\u001b[43m[\u001b[49m\u001b[43mj\u001b[49m\u001b[43m]\u001b[49m\u001b[43m[\u001b[49m\u001b[43mk\u001b[49m\u001b[43m]\u001b[49m\u001b[43m[\u001b[49m\u001b[43ml\u001b[49m\u001b[43m]\u001b[49m\u001b[43m)\u001b[49m\n\u001b[1;32m      9\u001b[0m \u001b[38;5;66;03m# sum.append(temp)\u001b[39;00m\n\u001b[1;32m     10\u001b[0m std\u001b[38;5;241m.\u001b[39mappend(np\u001b[38;5;241m.\u001b[39mstd(temp, dtype\u001b[38;5;241m=\u001b[39mnp\u001b[38;5;241m.\u001b[39mfloat64))\n",
      "\u001b[0;31mKeyboardInterrupt\u001b[0m: "
     ]
    }
   ],
   "source": [
    "mean = []\n",
    "std = []\n",
    "for i in range(data_.shape[0]):\n",
    "    temp = []\n",
    "    for j in range(data_.shape[1]):\n",
    "        for k in range(data_.shape[2]):\n",
    "            for l in range(data_.shape[3]):\n",
    "                temp.append(data_[i][j][k][l])\n",
    "    # sum.append(temp)\n",
    "    std.append(np.std(temp, dtype=np.float64))\n",
    "    mean.append(np.mean(temp, dtype=np.float64))\n",
    "    print(np.std(temp), np.mean(temp))\n",
    "print(std,'\\n')\n",
    "print(mean)"
   ]
  },
  {
   "cell_type": "markdown",
   "metadata": {},
   "source": [
    "### outputs for 54 channels\n",
    "0.012768574 0.12748851\n",
    "0.012816164 0.12627104\n",
    "0.012860647 0.12497447\n",
    "0.012785383 0.123351745\n",
    "0.01280456 0.12193543\n",
    "0.012723958 0.1206676\n",
    "0.012870256 0.11935494\n",
    "0.013004693 0.11785532\n",
    "0.012732691 0.11625574\n",
    "0.012467056 0.11489139\n",
    "0.012328725 0.11341784\n",
    "0.012257273 0.111889176\n",
    "0.012320152 0.11008014\n",
    "0.012488206 0.108370624\n",
    "0.012293289 0.10679825\n",
    "0.0121145705 0.10533531\n",
    "0.012185608 0.103589214\n",
    "0.012023781 0.10194851\n",
    "0.012024979 0.10018828\n",
    "0.011942158 0.09845957\n",
    "0.011913089 0.09669498\n",
    "0.011736593 0.09502939\n",
    "0.011735512 0.09324287\n",
    "0.011677956 0.09151492\n",
    "0.011484392 0.08996056\n",
    "0.011463704 0.08820983\n",
    "0.011331953 0.086567014\n",
    "0.0114794085 0.08468041\n",
    "0.011431291 0.08295224\n",
    "0.011346702 0.08126643\n",
    "0.011196142 0.07963967\n",
    "0.011058417 0.07800378\n",
    "0.010981622 0.07637229\n",
    "0.010941452 0.074734665\n",
    "0.010783511 0.07300491\n",
    "0.010744004 0.07159753\n",
    "0.010081135 0.06987017\n",
    "0.009869708 0.06832632\n",
    "0.009741623 0.06682408\n",
    "0.00955722 0.06535716\n",
    "0.009384523 0.06391095\n",
    "0.009335937 0.062408622\n",
    "0.009196846 0.060997717\n",
    "0.008956983 0.05969134\n",
    "0.008907695 0.05824868\n",
    "0.008761957 0.056855638\n",
    "0.008625886 0.055535052\n",
    "0.008458811 0.054184694\n",
    "0.008387311 0.052912813\n",
    "0.008644775 0.051421363\n",
    "0.008038243 0.050384395\n",
    "0.008023012 0.049262844\n",
    "0.007895657 0.048057206\n",
    "0.007758511 0.046891488\n",
    "[0.012768575181903842, 0.012816169992913296, 0.01286066717233686, 0.01278539244666665, 0.012804531302369936, 0.012723977000610683, 0.012870245719888604, 0.013004665847292606, 0.012732719490510287, 0.012467062639164169, 0.012328724191312819, 0.012257290092413622, 0.012320165425487513, 0.01248819756098668, 0.01229327978216656, 0.012114586106236955, 0.012185594961042965, 0.01202378061787919, 0.012024986777203006, 0.011942157937918578, 0.011913086222955928, 0.01173661721355335, 0.01173550868384959, 0.01167795182454835, 0.011484393393514203, 0.011463717477443543, 0.011331976296222332, 0.01147940761335593, 0.011431296144185872, 0.011346714915436084, 0.011196151661345827, 0.0110584254450936, 0.010981614282022777, 0.010941432840931162, 0.010783517895734136, 0.010743987689894553, 0.010081127315420843, 0.009869707428326683, 0.009741634743408577, 0.009557235174026308, 0.00938451836674377, 0.009335939851900303, 0.009196842903640206, 0.008956980221665634, 0.008907675643484787, 0.008761963410122838, 0.008625881332555556, 0.00845881692864831, 0.008387308029818538, 0.008644773894132478, 0.008038242544623266, 0.008023002914805387, 0.007895644751791364, 0.007758519133830533] \n",
    "\n",
    "[0.12748782592272317, 0.1262711530983448, 0.12497531814221982, 0.12335116088471294, 0.12193488460440695, 0.12066795291304588, 0.11935495532265415, 0.11785538454018993, 0.11625500280974824, 0.1148908731073877, 0.1134180049005482, 0.11189043849224661, 0.11008061600397398, 0.10837003407982397, 0.10679806481577732, 0.10533342010875543, 0.10358894093721001, 0.10194881779378578, 0.10018807482840839, 0.0984595671136806, 0.09669460260735618, 0.09502911027243108, 0.09324332448233057, 0.09151543287281637, 0.0899606990084236, 0.08820998705334869, 0.08656707719630666, 0.08468028176861045, 0.08295209358562658, 0.08126637656313401, 0.0796396875353875, 0.0780042848067887, 0.07637243883455241, 0.07473465878395019, 0.07300495554953813, 0.07159756054550777, 0.06987019186325279, 0.06832604165693493, 0.06682423031609735, 0.06535705740293603, 0.06391093588579952, 0.06240861978930088, 0.060997687621672216, 0.059690982284663636, 0.05824872748562951, 0.0568557370432917, 0.05553543438832333, 0.054184644077276745, 0.05291252286579506, 0.05142134960466697, 0.05038363856281396, 0.04926282645703098, 0.04805695560561654, 0.04689193702154321]\n"
   ]
  },
  {
   "cell_type": "markdown",
   "metadata": {},
   "source": [
    "### Numpy函数计算   \n",
    "计算速度快，但占用内存过多，float64时计算std会爆内存\n",
    "原来是精度问题，float64格式占用太多内存，所以爆了"
   ]
  },
  {
   "cell_type": "code",
   "execution_count": 5,
   "metadata": {},
   "outputs": [
    {
     "name": "stdout",
     "output_type": "stream",
     "text": [
      "标准差: (6,) \n",
      " [0.1151695  0.11031681 0.10522565 0.09981513 0.08497367 0.0744513 ]\n"
     ]
    }
   ],
   "source": [
    "std = np.std(data, axis=(0, 1, 2), dtype=np.float64)    # 计算标准差\n",
    "\n",
    "print(\"标准差:\", std.shape, '\\n', std)"
   ]
  },
  {
   "cell_type": "code",
   "execution_count": 4,
   "metadata": {},
   "outputs": [
    {
     "name": "stdout",
     "output_type": "stream",
     "text": [
      "均值 (6,) \n",
      " [1.09815364 0.97631921 0.83986788 0.70225234 0.57563447 0.46550505]\n"
     ]
    }
   ],
   "source": [
    "mean = np.mean(data, axis=(0, 1, 2),dtype=np.float128)  # 计算均值，axis指定了要沿着哪些轴计算均值\n",
    "\n",
    "print(\"均值\", mean.shape, '\\n', mean)"
   ]
  },
  {
   "cell_type": "markdown",
   "metadata": {},
   "source": [
    "## mean and std record"
   ]
  },
  {
   "cell_type": "markdown",
   "metadata": {},
   "source": [
    "### 54 channels  自己算的结果\n",
    "#### std\n",
    "[0.012768575181903842, 0.012816169992913296, 0.01286066717233686, 0.01278539244666665, 0.012804531302369936, 0.012723977000610683, 0.012870245719888604, 0.013004665847292606, 0.012732719490510287, 0.012467062639164169, 0.012328724191312819, 0.012257290092413622, 0.012320165425487513, 0.01248819756098668, 0.01229327978216656, 0.012114586106236955, 0.012185594961042965, 0.01202378061787919, 0.012024986777203006, 0.011942157937918578, 0.011913086222955928, 0.01173661721355335, 0.01173550868384959, 0.01167795182454835, 0.011484393393514203, 0.011463717477443543, 0.011331976296222332, 0.01147940761335593, 0.011431296144185872, 0.011346714915436084, 0.011196151661345827, 0.0110584254450936, 0.010981614282022777, 0.010941432840931162, 0.010783517895734136, 0.010743987689894553, 0.010081127315420843, 0.009869707428326683, 0.009741634743408577, 0.009557235174026308, 0.00938451836674377, 0.009335939851900303, 0.009196842903640206, 0.008956980221665634, 0.008907675643484787, 0.008761963410122838, 0.008625881332555556, 0.00845881692864831, 0.008387308029818538, 0.008644773894132478, 0.008038242544623266, 0.008023002914805387, 0.007895644751791364, 0.007758519133830533] \n",
    "#### mean\n",
    "[0.12748782592272317, 0.1262711530983448, 0.12497531814221982, 0.12335116088471294, 0.12193488460440695, 0.12066795291304588, 0.11935495532265415, 0.11785538454018993, 0.11625500280974824, 0.1148908731073877, 0.1134180049005482, 0.11189043849224661, 0.11008061600397398, 0.10837003407982397, 0.10679806481577732, 0.10533342010875543, 0.10358894093721001, 0.10194881779378578, 0.10018807482840839, 0.0984595671136806, 0.09669460260735618, 0.09502911027243108, 0.09324332448233057, 0.09151543287281637, 0.0899606990084236, 0.08820998705334869, 0.08656707719630666, 0.08468028176861045, 0.08295209358562658, 0.08126637656313401, 0.0796396875353875, 0.0780042848067887, 0.07637243883455241, 0.07473465878395019, 0.07300495554953813, 0.07159756054550777, 0.06987019186325279, 0.06832604165693493, 0.06682423031609735, 0.06535705740293603, 0.06391093588579952, 0.06240861978930088, 0.060997687621672216, 0.059690982284663636, 0.05824872748562951, 0.0568557370432917, 0.05553543438832333, 0.054184644077276745, 0.05291252286579506, 0.05142134960466697, 0.05038363856281396, 0.04926282645703098, 0.04805695560561654, 0.04689193702154321]"
   ]
  },
  {
   "cell_type": "markdown",
   "metadata": {},
   "source": [
    "### 27 channels\n",
    "#### mean\n",
    "\n",
    " [0.25375898 0.24832648 0.24260284 0.23721034 0.23114588 0.22530844\n",
    " 0.21845065 0.21213148 0.20553776 0.19864764 0.19172371 0.18475876\n",
    " 0.17817069 0.17124736 0.16421847 0.15764397 0.1511071  0.14460252\n",
    " 0.13819623 0.13218129 0.12631956 0.12068867 0.11510446 0.10972008\n",
    " 0.10433387 0.09964647 0.09494889]\n",
    "\n",
    "#### std\n",
    " [0.02558138 0.0256097  0.02552195 0.02586953 0.02517336 0.02458021\n",
    " 0.02480102 0.02439279 0.02420689 0.02396575 0.02364765 0.02341166\n",
    " 0.02294647 0.02279733 0.02277475 0.02225276 0.02192101 0.02151032\n",
    " 0.01994221 0.01929764 0.01871723 0.01815256 0.01766579 0.01708387\n",
    " 0.01700574 0.01604973 0.01565284]"
   ]
  },
  {
   "cell_type": "markdown",
   "metadata": {},
   "source": [
    "### 18 channels\n",
    "#### 均值 (18,) \n",
    " [0.3787343  0.365954   0.35346534 0.34019932 0.32524871 0.31087118\n",
    " 0.29534224 0.27978787 0.26473776 0.24889875 0.23401641 0.21933717\n",
    " 0.20502046 0.19167661 0.1789374  0.16657582 0.15471751 0.14421172]\n",
    "\n",
    "#### 标准差: (18,) \n",
    " [0.03843782 0.03830342 0.03859022 0.03703229 0.03709133 0.03631913\n",
    " 0.03587734 0.03514529 0.03427457 0.0342493  0.0332321  0.032431\n",
    " 0.02967465 0.02827346 0.02705211 0.02584295 0.02503429 0.02367499]"
   ]
  },
  {
   "cell_type": "markdown",
   "metadata": {},
   "source": [
    "### 9 channels\n",
    "#### 均值 (9,) \n",
    " [0.7446883  0.69366466 0.63611989 0.57513011 0.51363652 0.45335359\n",
    " 0.39669708 0.34551321 0.29892923]\n",
    "#### 标准差: (9,) \n",
    " [0.07662647 0.07553818 0.07336723 0.07101703 0.06848451 0.06562432\n",
    " 0.05793278 0.05288228 0.04867232]"
   ]
  },
  {
   "cell_type": "markdown",
   "metadata": {},
   "source": [
    "### 6 channels\n",
    "#### 均值 (6,) \n",
    " [1.09815364 0.97631921 0.83986788 0.70225234 0.57563447 0.46550505]\n",
    "#### 标准差: (6,) \n",
    " [0.1151695  0.11031681 0.10522565 0.09981513 0.08497367 0.0744513 ]"
   ]
  }
 ],
 "metadata": {
  "kernelspec": {
   "display_name": "texnet",
   "language": "python",
   "name": "python3"
  },
  "language_info": {
   "codemirror_mode": {
    "name": "ipython",
    "version": 3
   },
   "file_extension": ".py",
   "mimetype": "text/x-python",
   "name": "python",
   "nbconvert_exporter": "python",
   "pygments_lexer": "ipython3",
   "version": "3.10.4"
  }
 },
 "nbformat": 4,
 "nbformat_minor": 2
}
