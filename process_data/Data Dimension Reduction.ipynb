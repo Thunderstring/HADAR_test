{
 "cells": [
  {
   "cell_type": "code",
   "execution_count": 1,
   "metadata": {},
   "outputs": [],
   "source": [
    "import numpy as np\n",
    "import os\n",
    "import scipy.io as scio"
   ]
  },
  {
   "cell_type": "code",
   "execution_count": 2,
   "metadata": {},
   "outputs": [],
   "source": [
    "def process_data(data):\n",
    "    # average_data = np.mean(data[:, :, ::2], axis=2)\n",
    "    data1 = data[:, :, ::2]  # 偶\n",
    "    data2 = data[:, :, 1::2] # 奇\n",
    "\n",
    "    return (data1 + data2)"
   ]
  },
  {
   "cell_type": "markdown",
   "metadata": {},
   "source": [
    "HeatCubes"
   ]
  },
  {
   "cell_type": "code",
   "execution_count": 6,
   "metadata": {},
   "outputs": [
    {
     "name": "stdout",
     "output_type": "stream",
     "text": [
      "/home/ljm/workspace/zx/HADAR_database1/Scene1/HeatCubes/L_0001_heatcube.matis saved\n",
      "/home/ljm/workspace/zx/HADAR_database1/Scene1/HeatCubes/R_0002_heatcube.matis saved\n",
      "/home/ljm/workspace/zx/HADAR_database1/Scene1/HeatCubes/R_0004_heatcube.matis saved\n",
      "/home/ljm/workspace/zx/HADAR_database1/Scene1/HeatCubes/L_0003_heatcube.matis saved\n",
      "/home/ljm/workspace/zx/HADAR_database1/Scene1/HeatCubes/R_0003_heatcube.matis saved\n",
      "/home/ljm/workspace/zx/HADAR_database1/Scene1/HeatCubes/R_0001_heatcube.matis saved\n",
      "/home/ljm/workspace/zx/HADAR_database1/Scene1/HeatCubes/L_0005_heatcube.matis saved\n",
      "/home/ljm/workspace/zx/HADAR_database1/Scene1/HeatCubes/R_0005_heatcube.matis saved\n",
      "/home/ljm/workspace/zx/HADAR_database1/Scene1/HeatCubes/L_0002_heatcube.matis saved\n",
      "/home/ljm/workspace/zx/HADAR_database1/Scene1/HeatCubes/L_0004_heatcube.matis saved\n",
      "/home/ljm/workspace/zx/HADAR_database1/Scene2/HeatCubes/L_0001_heatcube.matis saved\n",
      "/home/ljm/workspace/zx/HADAR_database1/Scene2/HeatCubes/R_0002_heatcube.matis saved\n",
      "/home/ljm/workspace/zx/HADAR_database1/Scene2/HeatCubes/R_0004_heatcube.matis saved\n",
      "/home/ljm/workspace/zx/HADAR_database1/Scene2/HeatCubes/L_0003_heatcube.matis saved\n",
      "/home/ljm/workspace/zx/HADAR_database1/Scene2/HeatCubes/R_0003_heatcube.matis saved\n",
      "/home/ljm/workspace/zx/HADAR_database1/Scene2/HeatCubes/R_0001_heatcube.matis saved\n",
      "/home/ljm/workspace/zx/HADAR_database1/Scene2/HeatCubes/L_0005_heatcube.matis saved\n",
      "/home/ljm/workspace/zx/HADAR_database1/Scene2/HeatCubes/R_0005_heatcube.matis saved\n",
      "/home/ljm/workspace/zx/HADAR_database1/Scene2/HeatCubes/L_0002_heatcube.matis saved\n",
      "/home/ljm/workspace/zx/HADAR_database1/Scene2/HeatCubes/L_0004_heatcube.matis saved\n",
      "/home/ljm/workspace/zx/HADAR_database1/Scene3/HeatCubes/L_0001_heatcube.matis saved\n",
      "/home/ljm/workspace/zx/HADAR_database1/Scene3/HeatCubes/R_0002_heatcube.matis saved\n",
      "/home/ljm/workspace/zx/HADAR_database1/Scene3/HeatCubes/R_0004_heatcube.matis saved\n",
      "/home/ljm/workspace/zx/HADAR_database1/Scene3/HeatCubes/L_0003_heatcube.matis saved\n",
      "/home/ljm/workspace/zx/HADAR_database1/Scene3/HeatCubes/R_0003_heatcube.matis saved\n",
      "/home/ljm/workspace/zx/HADAR_database1/Scene3/HeatCubes/R_0001_heatcube.matis saved\n",
      "/home/ljm/workspace/zx/HADAR_database1/Scene3/HeatCubes/L_0005_heatcube.matis saved\n",
      "/home/ljm/workspace/zx/HADAR_database1/Scene3/HeatCubes/R_0005_heatcube.matis saved\n",
      "/home/ljm/workspace/zx/HADAR_database1/Scene3/HeatCubes/L_0002_heatcube.matis saved\n",
      "/home/ljm/workspace/zx/HADAR_database1/Scene3/HeatCubes/L_0004_heatcube.matis saved\n",
      "/home/ljm/workspace/zx/HADAR_database1/Scene4/HeatCubes/L_0001_heatcube.matis saved\n",
      "/home/ljm/workspace/zx/HADAR_database1/Scene4/HeatCubes/R_0002_heatcube.matis saved\n",
      "/home/ljm/workspace/zx/HADAR_database1/Scene4/HeatCubes/R_0004_heatcube.matis saved\n",
      "/home/ljm/workspace/zx/HADAR_database1/Scene4/HeatCubes/L_0003_heatcube.matis saved\n",
      "/home/ljm/workspace/zx/HADAR_database1/Scene4/HeatCubes/R_0003_heatcube.matis saved\n",
      "/home/ljm/workspace/zx/HADAR_database1/Scene4/HeatCubes/R_0001_heatcube.matis saved\n",
      "/home/ljm/workspace/zx/HADAR_database1/Scene4/HeatCubes/L_0005_heatcube.matis saved\n",
      "/home/ljm/workspace/zx/HADAR_database1/Scene4/HeatCubes/R_0005_heatcube.matis saved\n",
      "/home/ljm/workspace/zx/HADAR_database1/Scene4/HeatCubes/L_0002_heatcube.matis saved\n",
      "/home/ljm/workspace/zx/HADAR_database1/Scene4/HeatCubes/L_0004_heatcube.matis saved\n",
      "/home/ljm/workspace/zx/HADAR_database1/Scene5/HeatCubes/L_0001_heatcube.matis saved\n",
      "/home/ljm/workspace/zx/HADAR_database1/Scene5/HeatCubes/R_0002_heatcube.matis saved\n",
      "/home/ljm/workspace/zx/HADAR_database1/Scene5/HeatCubes/R_0004_heatcube.matis saved\n",
      "/home/ljm/workspace/zx/HADAR_database1/Scene5/HeatCubes/L_0003_heatcube.matis saved\n",
      "/home/ljm/workspace/zx/HADAR_database1/Scene5/HeatCubes/R_0003_heatcube.matis saved\n",
      "/home/ljm/workspace/zx/HADAR_database1/Scene5/HeatCubes/R_0001_heatcube.matis saved\n",
      "/home/ljm/workspace/zx/HADAR_database1/Scene5/HeatCubes/L_0005_heatcube.matis saved\n",
      "/home/ljm/workspace/zx/HADAR_database1/Scene5/HeatCubes/R_0005_heatcube.matis saved\n",
      "/home/ljm/workspace/zx/HADAR_database1/Scene5/HeatCubes/L_0002_heatcube.matis saved\n",
      "/home/ljm/workspace/zx/HADAR_database1/Scene5/HeatCubes/L_0004_heatcube.matis saved\n",
      "/home/ljm/workspace/zx/HADAR_database1/Scene6/HeatCubes/L_0001_heatcube.matis saved\n",
      "/home/ljm/workspace/zx/HADAR_database1/Scene6/HeatCubes/R_0002_heatcube.matis saved\n",
      "/home/ljm/workspace/zx/HADAR_database1/Scene6/HeatCubes/R_0004_heatcube.matis saved\n",
      "/home/ljm/workspace/zx/HADAR_database1/Scene6/HeatCubes/L_0003_heatcube.matis saved\n",
      "/home/ljm/workspace/zx/HADAR_database1/Scene6/HeatCubes/R_0003_heatcube.matis saved\n",
      "/home/ljm/workspace/zx/HADAR_database1/Scene6/HeatCubes/R_0001_heatcube.matis saved\n",
      "/home/ljm/workspace/zx/HADAR_database1/Scene6/HeatCubes/L_0005_heatcube.matis saved\n",
      "/home/ljm/workspace/zx/HADAR_database1/Scene6/HeatCubes/R_0005_heatcube.matis saved\n",
      "/home/ljm/workspace/zx/HADAR_database1/Scene6/HeatCubes/L_0002_heatcube.matis saved\n",
      "/home/ljm/workspace/zx/HADAR_database1/Scene6/HeatCubes/L_0004_heatcube.matis saved\n",
      "/home/ljm/workspace/zx/HADAR_database1/Scene7/HeatCubes/L_0001_heatcube.matis saved\n",
      "/home/ljm/workspace/zx/HADAR_database1/Scene7/HeatCubes/R_0002_heatcube.matis saved\n",
      "/home/ljm/workspace/zx/HADAR_database1/Scene7/HeatCubes/R_0004_heatcube.matis saved\n",
      "/home/ljm/workspace/zx/HADAR_database1/Scene7/HeatCubes/L_0003_heatcube.matis saved\n",
      "/home/ljm/workspace/zx/HADAR_database1/Scene7/HeatCubes/R_0003_heatcube.matis saved\n",
      "/home/ljm/workspace/zx/HADAR_database1/Scene7/HeatCubes/R_0001_heatcube.matis saved\n",
      "/home/ljm/workspace/zx/HADAR_database1/Scene7/HeatCubes/L_0005_heatcube.matis saved\n",
      "/home/ljm/workspace/zx/HADAR_database1/Scene7/HeatCubes/R_0005_heatcube.matis saved\n",
      "/home/ljm/workspace/zx/HADAR_database1/Scene7/HeatCubes/L_0002_heatcube.matis saved\n",
      "/home/ljm/workspace/zx/HADAR_database1/Scene7/HeatCubes/L_0004_heatcube.matis saved\n",
      "/home/ljm/workspace/zx/HADAR_database1/Scene8/HeatCubes/L_0001_heatcube.matis saved\n",
      "/home/ljm/workspace/zx/HADAR_database1/Scene8/HeatCubes/R_0002_heatcube.matis saved\n",
      "/home/ljm/workspace/zx/HADAR_database1/Scene8/HeatCubes/R_0004_heatcube.matis saved\n",
      "/home/ljm/workspace/zx/HADAR_database1/Scene8/HeatCubes/L_0003_heatcube.matis saved\n",
      "/home/ljm/workspace/zx/HADAR_database1/Scene8/HeatCubes/R_0003_heatcube.matis saved\n",
      "/home/ljm/workspace/zx/HADAR_database1/Scene8/HeatCubes/R_0001_heatcube.matis saved\n",
      "/home/ljm/workspace/zx/HADAR_database1/Scene8/HeatCubes/L_0005_heatcube.matis saved\n",
      "/home/ljm/workspace/zx/HADAR_database1/Scene8/HeatCubes/R_0005_heatcube.matis saved\n",
      "/home/ljm/workspace/zx/HADAR_database1/Scene8/HeatCubes/L_0002_heatcube.matis saved\n",
      "/home/ljm/workspace/zx/HADAR_database1/Scene8/HeatCubes/L_0004_heatcube.matis saved\n",
      "/home/ljm/workspace/zx/HADAR_database1/Scene9/HeatCubes/L_0001_heatcube.matis saved\n",
      "/home/ljm/workspace/zx/HADAR_database1/Scene9/HeatCubes/R_0002_heatcube.matis saved\n",
      "/home/ljm/workspace/zx/HADAR_database1/Scene9/HeatCubes/R_0004_heatcube.matis saved\n",
      "/home/ljm/workspace/zx/HADAR_database1/Scene9/HeatCubes/L_0003_heatcube.matis saved\n",
      "/home/ljm/workspace/zx/HADAR_database1/Scene9/HeatCubes/R_0003_heatcube.matis saved\n",
      "/home/ljm/workspace/zx/HADAR_database1/Scene9/HeatCubes/R_0001_heatcube.matis saved\n",
      "/home/ljm/workspace/zx/HADAR_database1/Scene9/HeatCubes/L_0005_heatcube.matis saved\n",
      "/home/ljm/workspace/zx/HADAR_database1/Scene9/HeatCubes/R_0005_heatcube.matis saved\n",
      "/home/ljm/workspace/zx/HADAR_database1/Scene9/HeatCubes/L_0002_heatcube.matis saved\n",
      "/home/ljm/workspace/zx/HADAR_database1/Scene9/HeatCubes/L_0004_heatcube.matis saved\n",
      "/home/ljm/workspace/zx/HADAR_database1/Scene10/HeatCubes/L_0001_heatcube.matis saved\n",
      "/home/ljm/workspace/zx/HADAR_database1/Scene10/HeatCubes/R_0002_heatcube.matis saved\n",
      "/home/ljm/workspace/zx/HADAR_database1/Scene10/HeatCubes/R_0004_heatcube.matis saved\n",
      "/home/ljm/workspace/zx/HADAR_database1/Scene10/HeatCubes/L_0003_heatcube.matis saved\n",
      "/home/ljm/workspace/zx/HADAR_database1/Scene10/HeatCubes/R_0003_heatcube.matis saved\n",
      "/home/ljm/workspace/zx/HADAR_database1/Scene10/HeatCubes/R_0001_heatcube.matis saved\n",
      "/home/ljm/workspace/zx/HADAR_database1/Scene10/HeatCubes/L_0005_heatcube.matis saved\n",
      "/home/ljm/workspace/zx/HADAR_database1/Scene10/HeatCubes/R_0005_heatcube.matis saved\n",
      "/home/ljm/workspace/zx/HADAR_database1/Scene10/HeatCubes/L_0002_heatcube.matis saved\n",
      "/home/ljm/workspace/zx/HADAR_database1/Scene10/HeatCubes/L_0004_heatcube.matis saved\n"
     ]
    }
   ],
   "source": [
    "matfile = ''\n",
    "root = '/home/ljm/workspace/zx/HADAR_database/'\n",
    "out_root = '/home/ljm/workspace/zx/HADAR_database1/'\n",
    "for i in list(range(1,11)):\n",
    "    filename = os.listdir(os.path.join(root, f'Scene{i}', 'HeatCubes'))\n",
    "    out_filename = os.path.join(out_root, f'Scene{i}', 'HeatCubes')\n",
    "    if not os.path.exists(out_filename):\n",
    "        os.makedirs(out_filename)\n",
    "    # print(filename)\n",
    "    # print(len(filename))\n",
    "    for file in filename:\n",
    "        if file[-3:] == 'mat':\n",
    "            matfile = os.path.join(root, f'Scene{i}', 'HeatCubes') + '/' + file\n",
    "            data = np.array(scio.loadmat(matfile)[\"S\"])\n",
    "            data_ = process_data(data)\n",
    "            scio.savemat(out_filename + '/' + file, {'S': data_})\n",
    "            # print(filename)\n",
    "            print(out_filename + '/' + file + ' is saved')\n",
    "            "
   ]
  },
  {
   "cell_type": "markdown",
   "metadata": {},
   "source": [
    "### .mat to .npy\n",
    "读取.mat"
   ]
  },
  {
   "cell_type": "code",
   "execution_count": 5,
   "metadata": {},
   "outputs": [
    {
     "name": "stdout",
     "output_type": "stream",
     "text": [
      "1.5963153839111328\n"
     ]
    }
   ],
   "source": [
    "import time\n",
    "file = '/home/ljm/workspace/zx/HADAR_database/Scene1/HeatCubes/L_0001_heatcube.mat'\n",
    "mat_start_time = time.time()\n",
    "mat = scio.loadmat(file)[\"S\"]\n",
    "mat_end_time = time.time()\n",
    "print(mat_end_time - mat_start_time)\n"
   ]
  },
  {
   "cell_type": "markdown",
   "metadata": {},
   "source": [
    "保存.npy"
   ]
  },
  {
   "cell_type": "code",
   "execution_count": 9,
   "metadata": {},
   "outputs": [],
   "source": [
    "save_dir = '/home/ljm/workspace/zx/HADAR_database1/Scene1/HeatCubes/'\n",
    "if not os.path.exists(save_dir):\n",
    "    os.makedirs(save_dir)\n",
    "np.save(os.path.join(save_dir, 'L_0001_heatcube.npy'), mat)"
   ]
  },
  {
   "cell_type": "code",
   "execution_count": 11,
   "metadata": {},
   "outputs": [
    {
     "name": "stdout",
     "output_type": "stream",
     "text": [
      "0.2799663543701172\n"
     ]
    }
   ],
   "source": [
    "npy_start_time = time.time()\n",
    "npy = np.load(os.path.join(save_dir, 'L_0001_heatcube.npy'))\n",
    "npy_end_time = time.time()\n",
    "print(npy_end_time - npy_start_time)"
   ]
  },
  {
   "cell_type": "code",
   "execution_count": 12,
   "metadata": {},
   "outputs": [
    {
     "data": {
      "text/plain": [
       "array([[[ True,  True,  True, ...,  True,  True,  True],\n",
       "        [ True,  True,  True, ...,  True,  True,  True],\n",
       "        [ True,  True,  True, ...,  True,  True,  True],\n",
       "        ...,\n",
       "        [ True,  True,  True, ...,  True,  True,  True],\n",
       "        [ True,  True,  True, ...,  True,  True,  True],\n",
       "        [ True,  True,  True, ...,  True,  True,  True]],\n",
       "\n",
       "       [[ True,  True,  True, ...,  True,  True,  True],\n",
       "        [ True,  True,  True, ...,  True,  True,  True],\n",
       "        [ True,  True,  True, ...,  True,  True,  True],\n",
       "        ...,\n",
       "        [ True,  True,  True, ...,  True,  True,  True],\n",
       "        [ True,  True,  True, ...,  True,  True,  True],\n",
       "        [ True,  True,  True, ...,  True,  True,  True]],\n",
       "\n",
       "       [[ True,  True,  True, ...,  True,  True,  True],\n",
       "        [ True,  True,  True, ...,  True,  True,  True],\n",
       "        [ True,  True,  True, ...,  True,  True,  True],\n",
       "        ...,\n",
       "        [ True,  True,  True, ...,  True,  True,  True],\n",
       "        [ True,  True,  True, ...,  True,  True,  True],\n",
       "        [ True,  True,  True, ...,  True,  True,  True]],\n",
       "\n",
       "       ...,\n",
       "\n",
       "       [[ True,  True,  True, ...,  True,  True,  True],\n",
       "        [ True,  True,  True, ...,  True,  True,  True],\n",
       "        [ True,  True,  True, ...,  True,  True,  True],\n",
       "        ...,\n",
       "        [ True,  True,  True, ...,  True,  True,  True],\n",
       "        [ True,  True,  True, ...,  True,  True,  True],\n",
       "        [ True,  True,  True, ...,  True,  True,  True]],\n",
       "\n",
       "       [[ True,  True,  True, ...,  True,  True,  True],\n",
       "        [ True,  True,  True, ...,  True,  True,  True],\n",
       "        [ True,  True,  True, ...,  True,  True,  True],\n",
       "        ...,\n",
       "        [ True,  True,  True, ...,  True,  True,  True],\n",
       "        [ True,  True,  True, ...,  True,  True,  True],\n",
       "        [ True,  True,  True, ...,  True,  True,  True]],\n",
       "\n",
       "       [[ True,  True,  True, ...,  True,  True,  True],\n",
       "        [ True,  True,  True, ...,  True,  True,  True],\n",
       "        [ True,  True,  True, ...,  True,  True,  True],\n",
       "        ...,\n",
       "        [ True,  True,  True, ...,  True,  True,  True],\n",
       "        [ True,  True,  True, ...,  True,  True,  True],\n",
       "        [ True,  True,  True, ...,  True,  True,  True]]])"
      ]
     },
     "execution_count": 12,
     "metadata": {},
     "output_type": "execute_result"
    }
   ],
   "source": [
    "npy == mat"
   ]
  },
  {
   "cell_type": "markdown",
   "metadata": {},
   "source": [
    "## 读取mat文件名列表"
   ]
  },
  {
   "cell_type": "code",
   "execution_count": 2,
   "metadata": {},
   "outputs": [
    {
     "name": "stdout",
     "output_type": "stream",
     "text": [
      "['/mnt/Disk/zx/HADAR/HADAR_database/Scene1/HeatCubes/R_0001_heatcube.mat', '/mnt/Disk/zx/HADAR/HADAR_database/Scene1/HeatCubes/L_0001_heatcube.mat', '/mnt/Disk/zx/HADAR/HADAR_database/Scene1/HeatCubes/R_0004_heatcube.mat', '/mnt/Disk/zx/HADAR/HADAR_database/Scene1/HeatCubes/R_0002_heatcube.mat', '/mnt/Disk/zx/HADAR/HADAR_database/Scene1/HeatCubes/R_0003_heatcube.mat', '/mnt/Disk/zx/HADAR/HADAR_database/Scene1/HeatCubes/L_0005_heatcube.mat', '/mnt/Disk/zx/HADAR/HADAR_database/Scene1/HeatCubes/L_0003_heatcube.mat', '/mnt/Disk/zx/HADAR/HADAR_database/Scene1/HeatCubes/L_0002_heatcube.mat', '/mnt/Disk/zx/HADAR/HADAR_database/Scene1/HeatCubes/L_0004_heatcube.mat', '/mnt/Disk/zx/HADAR/HADAR_database/Scene1/HeatCubes/R_0005_heatcube.mat', '/mnt/Disk/zx/HADAR/HADAR_database/Scene2/HeatCubes/R_0001_heatcube.mat', '/mnt/Disk/zx/HADAR/HADAR_database/Scene2/HeatCubes/L_0001_heatcube.mat', '/mnt/Disk/zx/HADAR/HADAR_database/Scene2/HeatCubes/R_0004_heatcube.mat', '/mnt/Disk/zx/HADAR/HADAR_database/Scene2/HeatCubes/R_0002_heatcube.mat', '/mnt/Disk/zx/HADAR/HADAR_database/Scene2/HeatCubes/R_0003_heatcube.mat', '/mnt/Disk/zx/HADAR/HADAR_database/Scene2/HeatCubes/L_0005_heatcube.mat', '/mnt/Disk/zx/HADAR/HADAR_database/Scene2/HeatCubes/L_0003_heatcube.mat', '/mnt/Disk/zx/HADAR/HADAR_database/Scene2/HeatCubes/L_0002_heatcube.mat', '/mnt/Disk/zx/HADAR/HADAR_database/Scene2/HeatCubes/L_0004_heatcube.mat', '/mnt/Disk/zx/HADAR/HADAR_database/Scene2/HeatCubes/R_0005_heatcube.mat', '/mnt/Disk/zx/HADAR/HADAR_database/Scene3/HeatCubes/R_0001_heatcube.mat', '/mnt/Disk/zx/HADAR/HADAR_database/Scene3/HeatCubes/L_0001_heatcube.mat', '/mnt/Disk/zx/HADAR/HADAR_database/Scene3/HeatCubes/R_0004_heatcube.mat', '/mnt/Disk/zx/HADAR/HADAR_database/Scene3/HeatCubes/R_0002_heatcube.mat', '/mnt/Disk/zx/HADAR/HADAR_database/Scene3/HeatCubes/R_0003_heatcube.mat', '/mnt/Disk/zx/HADAR/HADAR_database/Scene3/HeatCubes/L_0005_heatcube.mat', '/mnt/Disk/zx/HADAR/HADAR_database/Scene3/HeatCubes/L_0003_heatcube.mat', '/mnt/Disk/zx/HADAR/HADAR_database/Scene3/HeatCubes/L_0002_heatcube.mat', '/mnt/Disk/zx/HADAR/HADAR_database/Scene3/HeatCubes/L_0004_heatcube.mat', '/mnt/Disk/zx/HADAR/HADAR_database/Scene3/HeatCubes/R_0005_heatcube.mat', '/mnt/Disk/zx/HADAR/HADAR_database/Scene4/HeatCubes/R_0001_heatcube.mat', '/mnt/Disk/zx/HADAR/HADAR_database/Scene4/HeatCubes/L_0001_heatcube.mat', '/mnt/Disk/zx/HADAR/HADAR_database/Scene4/HeatCubes/R_0004_heatcube.mat', '/mnt/Disk/zx/HADAR/HADAR_database/Scene4/HeatCubes/R_0002_heatcube.mat', '/mnt/Disk/zx/HADAR/HADAR_database/Scene4/HeatCubes/R_0003_heatcube.mat', '/mnt/Disk/zx/HADAR/HADAR_database/Scene4/HeatCubes/L_0005_heatcube.mat', '/mnt/Disk/zx/HADAR/HADAR_database/Scene4/HeatCubes/L_0003_heatcube.mat', '/mnt/Disk/zx/HADAR/HADAR_database/Scene4/HeatCubes/L_0002_heatcube.mat', '/mnt/Disk/zx/HADAR/HADAR_database/Scene4/HeatCubes/L_0004_heatcube.mat', '/mnt/Disk/zx/HADAR/HADAR_database/Scene4/HeatCubes/R_0005_heatcube.mat', '/mnt/Disk/zx/HADAR/HADAR_database/Scene5/HeatCubes/R_0001_heatcube.mat', '/mnt/Disk/zx/HADAR/HADAR_database/Scene5/HeatCubes/L_0001_heatcube.mat', '/mnt/Disk/zx/HADAR/HADAR_database/Scene5/HeatCubes/R_0004_heatcube.mat', '/mnt/Disk/zx/HADAR/HADAR_database/Scene5/HeatCubes/R_0002_heatcube.mat', '/mnt/Disk/zx/HADAR/HADAR_database/Scene5/HeatCubes/R_0003_heatcube.mat', '/mnt/Disk/zx/HADAR/HADAR_database/Scene5/HeatCubes/L_0005_heatcube.mat', '/mnt/Disk/zx/HADAR/HADAR_database/Scene5/HeatCubes/L_0003_heatcube.mat', '/mnt/Disk/zx/HADAR/HADAR_database/Scene5/HeatCubes/L_0002_heatcube.mat', '/mnt/Disk/zx/HADAR/HADAR_database/Scene5/HeatCubes/L_0004_heatcube.mat', '/mnt/Disk/zx/HADAR/HADAR_database/Scene5/HeatCubes/R_0005_heatcube.mat', '/mnt/Disk/zx/HADAR/HADAR_database/Scene6/HeatCubes/R_0001_heatcube.mat', '/mnt/Disk/zx/HADAR/HADAR_database/Scene6/HeatCubes/L_0001_heatcube.mat', '/mnt/Disk/zx/HADAR/HADAR_database/Scene6/HeatCubes/R_0004_heatcube.mat', '/mnt/Disk/zx/HADAR/HADAR_database/Scene6/HeatCubes/R_0002_heatcube.mat', '/mnt/Disk/zx/HADAR/HADAR_database/Scene6/HeatCubes/R_0003_heatcube.mat', '/mnt/Disk/zx/HADAR/HADAR_database/Scene6/HeatCubes/L_0005_heatcube.mat', '/mnt/Disk/zx/HADAR/HADAR_database/Scene6/HeatCubes/L_0003_heatcube.mat', '/mnt/Disk/zx/HADAR/HADAR_database/Scene6/HeatCubes/L_0002_heatcube.mat', '/mnt/Disk/zx/HADAR/HADAR_database/Scene6/HeatCubes/L_0004_heatcube.mat', '/mnt/Disk/zx/HADAR/HADAR_database/Scene6/HeatCubes/R_0005_heatcube.mat', '/mnt/Disk/zx/HADAR/HADAR_database/Scene7/HeatCubes/R_0001_heatcube.mat', '/mnt/Disk/zx/HADAR/HADAR_database/Scene7/HeatCubes/L_0001_heatcube.mat', '/mnt/Disk/zx/HADAR/HADAR_database/Scene7/HeatCubes/R_0004_heatcube.mat', '/mnt/Disk/zx/HADAR/HADAR_database/Scene7/HeatCubes/R_0002_heatcube.mat', '/mnt/Disk/zx/HADAR/HADAR_database/Scene7/HeatCubes/R_0003_heatcube.mat', '/mnt/Disk/zx/HADAR/HADAR_database/Scene7/HeatCubes/L_0005_heatcube.mat', '/mnt/Disk/zx/HADAR/HADAR_database/Scene7/HeatCubes/L_0003_heatcube.mat', '/mnt/Disk/zx/HADAR/HADAR_database/Scene7/HeatCubes/L_0002_heatcube.mat', '/mnt/Disk/zx/HADAR/HADAR_database/Scene7/HeatCubes/L_0004_heatcube.mat', '/mnt/Disk/zx/HADAR/HADAR_database/Scene7/HeatCubes/R_0005_heatcube.mat', '/mnt/Disk/zx/HADAR/HADAR_database/Scene8/HeatCubes/R_0001_heatcube.mat', '/mnt/Disk/zx/HADAR/HADAR_database/Scene8/HeatCubes/L_0001_heatcube.mat', '/mnt/Disk/zx/HADAR/HADAR_database/Scene8/HeatCubes/R_0004_heatcube.mat', '/mnt/Disk/zx/HADAR/HADAR_database/Scene8/HeatCubes/R_0002_heatcube.mat', '/mnt/Disk/zx/HADAR/HADAR_database/Scene8/HeatCubes/R_0003_heatcube.mat', '/mnt/Disk/zx/HADAR/HADAR_database/Scene8/HeatCubes/L_0005_heatcube.mat', '/mnt/Disk/zx/HADAR/HADAR_database/Scene8/HeatCubes/L_0003_heatcube.mat', '/mnt/Disk/zx/HADAR/HADAR_database/Scene8/HeatCubes/L_0002_heatcube.mat', '/mnt/Disk/zx/HADAR/HADAR_database/Scene8/HeatCubes/L_0004_heatcube.mat', '/mnt/Disk/zx/HADAR/HADAR_database/Scene8/HeatCubes/R_0005_heatcube.mat', '/mnt/Disk/zx/HADAR/HADAR_database/Scene9/HeatCubes/R_0001_heatcube.mat', '/mnt/Disk/zx/HADAR/HADAR_database/Scene9/HeatCubes/L_0001_heatcube.mat', '/mnt/Disk/zx/HADAR/HADAR_database/Scene9/HeatCubes/R_0004_heatcube.mat', '/mnt/Disk/zx/HADAR/HADAR_database/Scene9/HeatCubes/R_0002_heatcube.mat', '/mnt/Disk/zx/HADAR/HADAR_database/Scene9/HeatCubes/R_0003_heatcube.mat', '/mnt/Disk/zx/HADAR/HADAR_database/Scene9/HeatCubes/L_0005_heatcube.mat', '/mnt/Disk/zx/HADAR/HADAR_database/Scene9/HeatCubes/L_0003_heatcube.mat', '/mnt/Disk/zx/HADAR/HADAR_database/Scene9/HeatCubes/L_0002_heatcube.mat', '/mnt/Disk/zx/HADAR/HADAR_database/Scene9/HeatCubes/L_0004_heatcube.mat', '/mnt/Disk/zx/HADAR/HADAR_database/Scene9/HeatCubes/R_0005_heatcube.mat', '/mnt/Disk/zx/HADAR/HADAR_database/Scene10/HeatCubes/R_0001_heatcube.mat', '/mnt/Disk/zx/HADAR/HADAR_database/Scene10/HeatCubes/L_0001_heatcube.mat', '/mnt/Disk/zx/HADAR/HADAR_database/Scene10/HeatCubes/R_0004_heatcube.mat', '/mnt/Disk/zx/HADAR/HADAR_database/Scene10/HeatCubes/R_0002_heatcube.mat', '/mnt/Disk/zx/HADAR/HADAR_database/Scene10/HeatCubes/R_0003_heatcube.mat', '/mnt/Disk/zx/HADAR/HADAR_database/Scene10/HeatCubes/L_0005_heatcube.mat', '/mnt/Disk/zx/HADAR/HADAR_database/Scene10/HeatCubes/L_0003_heatcube.mat', '/mnt/Disk/zx/HADAR/HADAR_database/Scene10/HeatCubes/L_0002_heatcube.mat', '/mnt/Disk/zx/HADAR/HADAR_database/Scene10/HeatCubes/L_0004_heatcube.mat', '/mnt/Disk/zx/HADAR/HADAR_database/Scene10/HeatCubes/R_0005_heatcube.mat']\n",
      "100\n"
     ]
    }
   ],
   "source": [
    "matfile = []\n",
    "root = '~/workspace/zx/HADAR_database/'\n",
    "for i in list(range(1,11)):\n",
    "    filename = os.listdir(os.path.join(root, f'Scene{i}', 'HeatCubes'))\n",
    "# print(filename)\n",
    "# print(len(filename))\n",
    "    for file in filename:\n",
    "        if file[-3:] == 'mat':\n",
    "            matfile.append(os.path.join(root, f'Scene{i}', 'HeatCubes') + '/' + file)\n",
    "print(matfile)\n",
    "print(len(matfile))"
   ]
  },
  {
   "cell_type": "markdown",
   "metadata": {},
   "source": [
    "### 读取数据"
   ]
  },
  {
   "cell_type": "code",
   "execution_count": 3,
   "metadata": {},
   "outputs": [
    {
     "name": "stdout",
     "output_type": "stream",
     "text": [
      "(100, 1080, 1920, 54)\n"
     ]
    }
   ],
   "source": [
    "data = []\n",
    "for mat in matfile:\n",
    "    sub_data = scio.loadmat(mat)[\"S\"]\n",
    "    data.append(sub_data)\n",
    "data = np.array(data)\n",
    "print(data.shape)\n"
   ]
  }
 ],
 "metadata": {
  "kernelspec": {
   "display_name": "texnet",
   "language": "python",
   "name": "python3"
  },
  "language_info": {
   "codemirror_mode": {
    "name": "ipython",
    "version": 3
   },
   "file_extension": ".py",
   "mimetype": "text/x-python",
   "name": "python",
   "nbconvert_exporter": "python",
   "pygments_lexer": "ipython3",
   "version": "3.10.4"
  }
 },
 "nbformat": 4,
 "nbformat_minor": 2
}
