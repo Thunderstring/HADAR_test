{
 "cells": [
  {
   "cell_type": "code",
   "execution_count": 3,
   "metadata": {},
   "outputs": [],
   "source": [
    "import numpy as np\n",
    "import os\n",
    "import scipy.io as scio"
   ]
  },
  {
   "cell_type": "code",
   "execution_count": 3,
   "metadata": {},
   "outputs": [
    {
     "name": "stdout",
     "output_type": "stream",
     "text": [
      "(1, 54, 2, 1)\n"
     ]
    }
   ],
   "source": [
    "data = np.load('~/workspace/zx/HADAR_database/Scene1/HeatCubes/S_EnvObj_L_0001.npy')\n",
    "print(data.shape)"
   ]
  },
  {
   "cell_type": "code",
   "execution_count": 4,
   "metadata": {},
   "outputs": [
    {
     "name": "stdout",
     "output_type": "stream",
     "text": [
      "(1, 49, 2, 1)\n"
     ]
    }
   ],
   "source": [
    "data = np.load('~/workspace/zx/HADAR_database/Scene11/HeatCubes/S_EnvObj_0001.npy')\n",
    "print(data.shape)"
   ]
  },
  {
   "cell_type": "code",
   "execution_count": 23,
   "metadata": {},
   "outputs": [
    {
     "name": "stdout",
     "output_type": "stream",
     "text": [
      "(1080, 1920)\n",
      "[2, 3, 4]\n"
     ]
    }
   ],
   "source": [
    "data = np.load('~/workspace/zx/HADAR_database/Scene1/GroundTruth/eMap/new_eMap_L_0001.npy')\n",
    "print(data.shape)\n",
    "print([1,2,3,4][1:])"
   ]
  },
  {
   "cell_type": "code",
   "execution_count": 27,
   "metadata": {},
   "outputs": [
    {
     "name": "stdout",
     "output_type": "stream",
     "text": [
      "[1, 2, 3, 4]\n"
     ]
    },
    {
     "data": {
      "text/plain": [
       "[1, 2]"
      ]
     },
     "execution_count": 27,
     "metadata": {},
     "output_type": "execute_result"
    }
   ],
   "source": [
    "a = list(range(1,5))\n",
    "print(a)\n",
    "a[:2]"
   ]
  },
  {
   "cell_type": "code",
   "execution_count": 10,
   "metadata": {},
   "outputs": [
    {
     "name": "stdout",
     "output_type": "stream",
     "text": [
      "/mnt/Disk/zx/HADAR/HADAR_database/Scene11/HeatCubes/0001_heatcube.mat\n"
     ]
    }
   ],
   "source": [
    "path = os.path.join('~/workspace/zx/HADAR_database/Scene11/HeatCubes/0001_heatcube.mat')\n",
    "print(path)"
   ]
  },
  {
   "cell_type": "code",
   "execution_count": 18,
   "metadata": {},
   "outputs": [
    {
     "name": "stdout",
     "output_type": "stream",
     "text": [
      "(54, 1, 1)\n",
      "(49, 1, 1)\n"
     ]
    }
   ],
   "source": [
    "S_mu = np.array([0.12647585, 0.12525924, 0.12395189, 0.12230065, 0.12088306, 0.11962758,\n",
    "                              0.11836884, 0.11685297, 0.11524992, 0.11388518, 0.11242859, 0.11083422,\n",
    "                              0.1090912,  0.10737984, 0.10582539, 0.10439677, 0.10263842, 0.10100006,\n",
    "                              0.0992386,  0.09752469, 0.09576828, 0.09412399, 0.09233064, 0.09060183,\n",
    "                              0.08907408, 0.08732026, 0.08569063, 0.08377189, 0.08205311, 0.08037362,\n",
    "                              0.07875945, 0.07714489, 0.07552012, 0.07388812, 0.07219477, 0.07086218,\n",
    "                              0.06908296, 0.06754399, 0.06604221, 0.06459464, 0.06316591, 0.06165175,\n",
    "                              0.0602433,  0.05895745, 0.05754419, 0.05616417, 0.05485069, 0.05351864,\n",
    "                              0.05223851, 0.05066062, 0.0497363,  0.04859088, 0.04738823, 0.04625365])\n",
    "print(np.reshape(S_mu, (-1, 1, 1)).shape)\n",
    "print(np.reshape(S_mu, (-1, 1, 1))[4:53].shape)"
   ]
  },
  {
   "cell_type": "code",
   "execution_count": 3,
   "metadata": {},
   "outputs": [
    {
     "data": {
      "text/plain": [
       "[1, 2, 3, 4, 5, 6, 7, 8, 9, 10]"
      ]
     },
     "execution_count": 3,
     "metadata": {},
     "output_type": "execute_result"
    }
   ],
   "source": [
    "np.squeeze([[[1,2,3]]])\n",
    "list(range(1,11))"
   ]
  },
  {
   "cell_type": "code",
   "execution_count": 16,
   "metadata": {},
   "outputs": [
    {
     "name": "stdout",
     "output_type": "stream",
     "text": [
      "7.222222222222222\n"
     ]
    }
   ],
   "source": [
    "a = np.array([[1,2,3],[2,5,9]])\n",
    "std = np.var(a)\n",
    "print(std)"
   ]
  },
  {
   "cell_type": "code",
   "execution_count": 17,
   "metadata": {},
   "outputs": [
    {
     "name": "stdout",
     "output_type": "stream",
     "text": [
      "0.6666666666666666\n",
      "8.222222222222221\n"
     ]
    }
   ],
   "source": [
    "std0 = np.var(a[0])\n",
    "print(std0)\n",
    "std1 = np.var(a[1])\n",
    "print(std1)"
   ]
  },
  {
   "cell_type": "code",
   "execution_count": 18,
   "metadata": {},
   "outputs": [
    {
     "data": {
      "text/plain": [
       "14.271604938271603"
      ]
     },
     "execution_count": 18,
     "metadata": {},
     "output_type": "execute_result"
    }
   ],
   "source": [
    "np.var([std0,std1])"
   ]
  }
 ],
 "metadata": {
  "kernelspec": {
   "display_name": "texnet",
   "language": "python",
   "name": "python3"
  },
  "language_info": {
   "codemirror_mode": {
    "name": "ipython",
    "version": 3
   },
   "file_extension": ".py",
   "mimetype": "text/x-python",
   "name": "python",
   "nbconvert_exporter": "python",
   "pygments_lexer": "ipython3",
   "version": "3.10.4"
  }
 },
 "nbformat": 4,
 "nbformat_minor": 2
}
