{
 "cells": [
  {
   "cell_type": "code",
   "execution_count": 2,
   "metadata": {},
   "outputs": [],
   "source": [
    "import numpy as np\n",
    "import os\n",
    "import scipy.io as scio"
   ]
  },
  {
   "cell_type": "code",
   "execution_count": 3,
   "metadata": {},
   "outputs": [
    {
     "name": "stdout",
     "output_type": "stream",
     "text": [
      "(1, 54, 2, 1)\n"
     ]
    }
   ],
   "source": [
    "data = np.load('~/workspace/zx/HADAR_database/Scene1/HeatCubes/S_EnvObj_L_0001.npy')\n",
    "print(data.shape)"
   ]
  },
  {
   "cell_type": "code",
   "execution_count": 4,
   "metadata": {},
   "outputs": [
    {
     "name": "stdout",
     "output_type": "stream",
     "text": [
      "(1, 49, 2, 1)\n"
     ]
    }
   ],
   "source": [
    "data = np.load('~/workspace/zx/HADAR_database/Scene11/HeatCubes/S_EnvObj_0001.npy')\n",
    "print(data.shape)"
   ]
  },
  {
   "cell_type": "code",
   "execution_count": 23,
   "metadata": {},
   "outputs": [
    {
     "name": "stdout",
     "output_type": "stream",
     "text": [
      "(1080, 1920)\n",
      "[2, 3, 4]\n"
     ]
    }
   ],
   "source": [
    "data = np.load('~/workspace/zx/HADAR_database/Scene1/GroundTruth/eMap/new_eMap_L_0001.npy')\n",
    "print(data.shape)\n",
    "print([1,2,3,4][1:])"
   ]
  },
  {
   "cell_type": "code",
   "execution_count": 27,
   "metadata": {},
   "outputs": [
    {
     "name": "stdout",
     "output_type": "stream",
     "text": [
      "[1, 2, 3, 4]\n"
     ]
    },
    {
     "data": {
      "text/plain": [
       "[1, 2]"
      ]
     },
     "execution_count": 27,
     "metadata": {},
     "output_type": "execute_result"
    }
   ],
   "source": [
    "a = list(range(1,5))\n",
    "print(a)\n",
    "a[:2]"
   ]
  },
  {
   "cell_type": "code",
   "execution_count": 10,
   "metadata": {},
   "outputs": [
    {
     "name": "stdout",
     "output_type": "stream",
     "text": [
      "/mnt/Disk/zx/HADAR/HADAR_database/Scene11/HeatCubes/0001_heatcube.mat\n"
     ]
    }
   ],
   "source": [
    "path = os.path.join('~/workspace/zx/HADAR_database/Scene11/HeatCubes/0001_heatcube.mat')\n",
    "print(path)"
   ]
  },
  {
   "cell_type": "code",
   "execution_count": 18,
   "metadata": {},
   "outputs": [
    {
     "name": "stdout",
     "output_type": "stream",
     "text": [
      "(54, 1, 1)\n",
      "(49, 1, 1)\n"
     ]
    }
   ],
   "source": [
    "S_mu = np.array([0.12647585, 0.12525924, 0.12395189, 0.12230065, 0.12088306, 0.11962758,\n",
    "                              0.11836884, 0.11685297, 0.11524992, 0.11388518, 0.11242859, 0.11083422,\n",
    "                              0.1090912,  0.10737984, 0.10582539, 0.10439677, 0.10263842, 0.10100006,\n",
    "                              0.0992386,  0.09752469, 0.09576828, 0.09412399, 0.09233064, 0.09060183,\n",
    "                              0.08907408, 0.08732026, 0.08569063, 0.08377189, 0.08205311, 0.08037362,\n",
    "                              0.07875945, 0.07714489, 0.07552012, 0.07388812, 0.07219477, 0.07086218,\n",
    "                              0.06908296, 0.06754399, 0.06604221, 0.06459464, 0.06316591, 0.06165175,\n",
    "                              0.0602433,  0.05895745, 0.05754419, 0.05616417, 0.05485069, 0.05351864,\n",
    "                              0.05223851, 0.05066062, 0.0497363,  0.04859088, 0.04738823, 0.04625365])\n",
    "print(np.reshape(S_mu, (-1, 1, 1)).shape)\n",
    "print(np.reshape(S_mu, (-1, 1, 1))[4:53].shape)"
   ]
  },
  {
   "cell_type": "code",
   "execution_count": 3,
   "metadata": {},
   "outputs": [
    {
     "data": {
      "text/plain": [
       "[1, 2, 3, 4, 5, 6, 7, 8, 9, 10]"
      ]
     },
     "execution_count": 3,
     "metadata": {},
     "output_type": "execute_result"
    }
   ],
   "source": [
    "np.squeeze([[[1,2,3]]])\n",
    "list(range(1,11))"
   ]
  },
  {
   "cell_type": "code",
   "execution_count": 16,
   "metadata": {},
   "outputs": [
    {
     "name": "stdout",
     "output_type": "stream",
     "text": [
      "7.222222222222222\n"
     ]
    }
   ],
   "source": [
    "a = np.array([[1,2,3],[2,5,9]])\n",
    "std = np.var(a)\n",
    "print(std)"
   ]
  },
  {
   "cell_type": "code",
   "execution_count": 17,
   "metadata": {},
   "outputs": [
    {
     "name": "stdout",
     "output_type": "stream",
     "text": [
      "0.6666666666666666\n",
      "8.222222222222221\n"
     ]
    }
   ],
   "source": [
    "std0 = np.var(a[0])\n",
    "print(std0)\n",
    "std1 = np.var(a[1])\n",
    "print(std1)"
   ]
  },
  {
   "cell_type": "code",
   "execution_count": 18,
   "metadata": {},
   "outputs": [
    {
     "data": {
      "text/plain": [
       "14.271604938271603"
      ]
     },
     "execution_count": 18,
     "metadata": {},
     "output_type": "execute_result"
    }
   ],
   "source": [
    "np.var([std0,std1])"
   ]
  },
  {
   "cell_type": "code",
   "execution_count": 2,
   "metadata": {},
   "outputs": [
    {
     "name": "stdout",
     "output_type": "stream",
     "text": [
      "[0, 2, 4, 6, 8, 10, 12, 14, 16, 18]\n",
      "[1, 3, 5, 7, 9, 11, 13, 15, 17, 19]\n",
      "[2, 4, 6, 8, 10, 12, 14, 16, 18]\n",
      "[3, 5, 7, 9, 11, 13, 15, 17, 19]\n"
     ]
    }
   ],
   "source": [
    "a = list(range(20))\n",
    "print(a[::2])\n",
    "print(a[1::2])\n",
    "print(a[2::2])\n",
    "print(a[3::2])"
   ]
  },
  {
   "cell_type": "code",
   "execution_count": 22,
   "metadata": {},
   "outputs": [
    {
     "name": "stdout",
     "output_type": "stream",
     "text": [
      "[0, 1, 2, 3, 4, 5, 6, 7, 8, 9, 10, 11, 12, 13, 14, 15, 16, 17, 18, 19, 20, 21, 22, 23, 24, 25, 26, 27, 28, 29, 30, 31, 32, 33, 34, 35, 36, 37, 38, 39, 40, 41, 42, 43, 44, 45, 46, 47, 48, 49, 50, 51, 52, 53]\n",
      "[4, 6, 8, 10, 12, 14, 16, 18, 20, 22, 24, 26, 28, 30, 32, 34, 36, 38, 40, 42, 44, 46, 48, 50, 52]\n",
      "25\n"
     ]
    }
   ],
   "source": [
    "l = list(range(54))\n",
    "print(l)\n",
    "print(l[4:53:2])\n",
    "print(len(l[4:53:2]))"
   ]
  },
  {
   "cell_type": "code",
   "execution_count": 5,
   "metadata": {},
   "outputs": [
    {
     "name": "stdout",
     "output_type": "stream",
     "text": [
      "[0, 2, 4, 6, 8, 10, 12, 14, 16, 18, 20, 22, 24, 26, 28, 30, 32, 34, 36, 38, 40, 42, 44, 46, 48]\n",
      "25\n"
     ]
    }
   ],
   "source": [
    "l = list(range(49))\n",
    "print(l[::2])\n",
    "print(len(l[::2]))"
   ]
  },
  {
   "cell_type": "code",
   "execution_count": 10,
   "metadata": {},
   "outputs": [
    {
     "name": "stdout",
     "output_type": "stream",
     "text": [
      "[[0. 0. 0. 0. 0. 0. 0. 0. 0. 0. 0. 0. 0. 0. 0. 0. 0. 0. 0. 0. 0. 0. 0. 0.\n",
      "  0. 0. 0. 0. 0. 0.]\n",
      " [0. 0. 0. 0. 0. 0. 0. 0. 0. 0. 0. 0. 0. 0. 0. 0. 0. 0. 0. 0. 0. 0. 0. 0.\n",
      "  0. 0. 0. 0. 0. 0.]\n",
      " [0. 0. 0. 0. 0. 0. 0. 0. 0. 0. 0. 0. 0. 0. 0. 0. 0. 0. 0. 0. 0. 0. 0. 0.\n",
      "  0. 0. 0. 0. 0. 0.]\n",
      " [0. 0. 0. 0. 0. 0. 0. 0. 0. 0. 0. 0. 0. 0. 0. 0. 0. 0. 0. 0. 0. 0. 0. 0.\n",
      "  0. 0. 0. 0. 0. 0.]\n",
      " [0. 0. 0. 0. 0. 0. 0. 0. 0. 0. 0. 0. 0. 0. 0. 0. 0. 0. 0. 0. 0. 0. 0. 0.\n",
      "  0. 0. 0. 0. 0. 0.]\n",
      " [0. 0. 0. 0. 0. 0. 0. 0. 0. 0. 0. 0. 0. 0. 0. 0. 0. 0. 0. 0. 0. 0. 0. 0.\n",
      "  0. 0. 0. 0. 0. 0.]\n",
      " [0. 0. 0. 0. 0. 0. 0. 0. 0. 0. 0. 0. 0. 0. 0. 0. 0. 0. 0. 0. 0. 0. 0. 0.\n",
      "  0. 0. 0. 0. 0. 0.]\n",
      " [0. 0. 0. 0. 0. 0. 0. 0. 0. 0. 0. 0. 0. 0. 0. 0. 0. 0. 0. 0. 0. 0. 0. 0.\n",
      "  0. 0. 0. 0. 0. 0.]\n",
      " [0. 0. 0. 0. 0. 0. 0. 0. 0. 0. 0. 0. 0. 0. 0. 0. 0. 0. 0. 0. 0. 0. 0. 0.\n",
      "  0. 0. 0. 0. 0. 0.]\n",
      " [0. 0. 0. 0. 0. 0. 0. 0. 0. 0. 0. 0. 0. 0. 0. 0. 0. 0. 0. 0. 0. 0. 0. 0.\n",
      "  0. 0. 0. 0. 0. 0.]\n",
      " [0. 0. 0. 0. 0. 0. 0. 0. 0. 0. 0. 0. 0. 0. 0. 0. 0. 0. 0. 0. 0. 0. 0. 0.\n",
      "  0. 0. 0. 0. 0. 0.]\n",
      " [0. 0. 0. 0. 0. 0. 0. 0. 0. 0. 0. 0. 0. 0. 0. 0. 0. 0. 0. 0. 0. 0. 0. 0.\n",
      "  0. 0. 0. 0. 0. 0.]\n",
      " [0. 0. 0. 0. 0. 0. 0. 0. 0. 0. 0. 0. 0. 0. 0. 0. 0. 0. 0. 0. 0. 0. 0. 0.\n",
      "  0. 0. 0. 0. 0. 0.]\n",
      " [0. 0. 0. 0. 0. 0. 0. 0. 0. 0. 0. 0. 0. 0. 0. 0. 0. 0. 0. 0. 0. 0. 0. 0.\n",
      "  0. 0. 0. 0. 0. 0.]\n",
      " [0. 0. 0. 0. 0. 0. 0. 0. 0. 0. 0. 0. 0. 0. 0. 0. 0. 0. 0. 0. 0. 0. 0. 0.\n",
      "  0. 0. 0. 0. 0. 0.]\n",
      " [0. 0. 0. 0. 0. 0. 0. 0. 0. 0. 0. 0. 0. 0. 0. 0. 0. 0. 0. 0. 0. 0. 0. 0.\n",
      "  0. 0. 0. 0. 0. 0.]\n",
      " [0. 0. 0. 0. 0. 0. 0. 0. 0. 0. 0. 0. 0. 0. 0. 0. 0. 0. 0. 0. 0. 0. 0. 0.\n",
      "  0. 0. 0. 0. 0. 0.]\n",
      " [0. 0. 0. 0. 0. 0. 0. 0. 0. 0. 0. 0. 0. 0. 0. 0. 0. 0. 0. 0. 0. 0. 0. 0.\n",
      "  0. 0. 0. 0. 0. 0.]\n",
      " [0. 0. 0. 0. 0. 0. 0. 0. 0. 0. 0. 0. 0. 0. 0. 0. 0. 0. 0. 0. 0. 0. 0. 0.\n",
      "  0. 0. 0. 0. 0. 0.]\n",
      " [0. 0. 0. 0. 0. 0. 0. 0. 0. 0. 0. 0. 0. 0. 0. 0. 0. 0. 0. 0. 0. 0. 0. 0.\n",
      "  0. 0. 0. 0. 0. 0.]\n",
      " [0. 0. 0. 0. 0. 0. 0. 0. 0. 0. 0. 0. 0. 0. 0. 0. 0. 0. 0. 0. 0. 0. 0. 0.\n",
      "  0. 0. 0. 0. 0. 0.]\n",
      " [0. 0. 0. 0. 0. 0. 0. 0. 0. 0. 0. 0. 0. 0. 0. 0. 0. 0. 0. 0. 0. 0. 0. 0.\n",
      "  0. 0. 0. 0. 0. 0.]\n",
      " [0. 0. 0. 0. 0. 0. 0. 0. 0. 0. 0. 0. 0. 0. 0. 0. 0. 0. 0. 0. 0. 0. 0. 0.\n",
      "  0. 0. 0. 0. 0. 0.]\n",
      " [0. 0. 0. 0. 0. 0. 0. 0. 0. 0. 0. 0. 0. 0. 0. 0. 0. 0. 0. 0. 0. 0. 0. 0.\n",
      "  0. 0. 0. 0. 0. 0.]\n",
      " [0. 0. 0. 0. 0. 0. 0. 0. 0. 0. 0. 0. 0. 0. 0. 0. 0. 0. 0. 0. 0. 0. 0. 0.\n",
      "  0. 0. 0. 0. 0. 0.]]\n",
      "(25, 30)\n"
     ]
    }
   ],
   "source": [
    "l = np.zeros([49,30])\n",
    "print(l[::2])\n",
    "print(l[::2].shape)"
   ]
  },
  {
   "cell_type": "code",
   "execution_count": 7,
   "metadata": {},
   "outputs": [
    {
     "name": "stdout",
     "output_type": "stream",
     "text": [
      "[ 760.  770.  780.  790.  800.  810.  820.  830.  840.  850.  860.  870.\n",
      "  880.  890.  900.  910.  920.  930.  940.  950.  960.  970.  980.  990.\n",
      " 1000. 1010. 1020. 1030. 1040. 1050. 1060. 1070. 1080. 1090. 1100. 1110.\n",
      " 1120. 1130. 1140. 1150. 1160. 1170. 1180. 1190. 1200. 1210. 1220. 1230.\n",
      " 1240.]\n",
      "[ 760.  780.  800.  820.  840.  860.  880.  900.  920.  940.  960.  980.\n",
      " 1000. 1020. 1040. 1060. 1080. 1100. 1120. 1140. 1160. 1180. 1200. 1220.\n",
      " 1240.]\n",
      "(25,)\n"
     ]
    }
   ],
   "source": [
    "nu = np.linspace(760, 1240, 49)\n",
    "print(nu)\n",
    "print(nu[::2])\n",
    "print(nu[::2].shape)"
   ]
  },
  {
   "cell_type": "code",
   "execution_count": 8,
   "metadata": {},
   "outputs": [
    {
     "name": "stdout",
     "output_type": "stream",
     "text": [
      "[ 760.  780.  800.  820.  840.  860.  880.  900.  920.  940.  960.  980.\n",
      " 1000. 1020. 1040. 1060. 1080. 1100. 1120. 1140. 1160. 1180. 1200. 1220.\n",
      " 1240.]\n"
     ]
    }
   ],
   "source": [
    "nu = np.linspace(760, 1240, 25)\n",
    "print(nu)"
   ]
  },
  {
   "cell_type": "code",
   "execution_count": 13,
   "metadata": {},
   "outputs": [
    {
     "name": "stdout",
     "output_type": "stream",
     "text": [
      "[4, 6, 8, 10, 12, 14, 16, 18, 20, 22, 24, 26, 28, 30, 32, 34, 36, 38, 40, 42, 44, 46, 48, 50, 52]\n",
      "25\n"
     ]
    }
   ],
   "source": [
    "a = slice(4,53,2)\n",
    "b = list(range(54))\n",
    "print(b[a])\n",
    "print(len(b[a]))"
   ]
  },
  {
   "cell_type": "code",
   "execution_count": 37,
   "metadata": {},
   "outputs": [
    {
     "name": "stdout",
     "output_type": "stream",
     "text": [
      "[4, 24, 44]\n",
      "3\n",
      "49\n",
      "[0, 5, 10, 15, 20, 25, 30, 35, 40, 45]\n",
      "10\n"
     ]
    }
   ],
   "source": [
    "# a = slice(None, None)\n",
    "a = slice(4,53,20)\n",
    "b = list(range(54))\n",
    "print(b[a])\n",
    "print(len(b[a]))\n",
    "\n",
    "d = slice(None, None, 5)\n",
    "c = list(range(49))\n",
    "print(c[d])\n",
    "print(len(c[d]))"
   ]
  },
  {
   "cell_type": "code",
   "execution_count": null,
   "metadata": {},
   "outputs": [],
   "source": [
    "a = slice(None, None)\n",
    "b = list(range(54))\n",
    "print(b[a])\n",
    "print(len(b[a]))"
   ]
  },
  {
   "cell_type": "code",
   "execution_count": 24,
   "metadata": {},
   "outputs": [
    {
     "ename": "TypeError",
     "evalue": "unsupported operand type(s) for +: 'slice' and 'slice'",
     "output_type": "error",
     "traceback": [
      "\u001b[0;31m---------------------------------------------------------------------------\u001b[0m",
      "\u001b[0;31mTypeError\u001b[0m                                 Traceback (most recent call last)",
      "Input \u001b[0;32mIn [24]\u001b[0m, in \u001b[0;36m<cell line: 4>\u001b[0;34m()\u001b[0m\n\u001b[1;32m      2\u001b[0m slice2 \u001b[38;5;241m=\u001b[39m \u001b[38;5;28mslice\u001b[39m(\u001b[38;5;241m5\u001b[39m,\u001b[38;5;241m9\u001b[39m)\n\u001b[1;32m      3\u001b[0m l \u001b[38;5;241m=\u001b[39m \u001b[38;5;28mlist\u001b[39m(\u001b[38;5;28mrange\u001b[39m(\u001b[38;5;241m54\u001b[39m))\n\u001b[0;32m----> 4\u001b[0m \u001b[43mslice1\u001b[49m\u001b[43m \u001b[49m\u001b[38;5;241;43m+\u001b[39;49m\u001b[43m \u001b[49m\u001b[43mslice2\u001b[49m\n",
      "\u001b[0;31mTypeError\u001b[0m: unsupported operand type(s) for +: 'slice' and 'slice'"
     ]
    }
   ],
   "source": [
    "slice1 = slice(None,4)\n",
    "slice2 = slice(5,9)\n",
    "l = list(range(54))\n",
    "slice1 + slice2"
   ]
  },
  {
   "cell_type": "code",
   "execution_count": 40,
   "metadata": {},
   "outputs": [
    {
     "name": "stdout",
     "output_type": "stream",
     "text": [
      "1 : 49 \n",
      "\n",
      "2 : 25 \n",
      "\n",
      "3 : 17 \n",
      "\n",
      "4 : 13 \n",
      "\n",
      "5 : 10 \n",
      "\n",
      "6 : 9 \n",
      "\n",
      "7 : 7 \n",
      "\n",
      "8 : 7 \n",
      "\n",
      "9 : 6 \n",
      "\n",
      "10 : 5 \n",
      "\n",
      "11 : 5 \n",
      "\n",
      "12 : 5 \n",
      "\n",
      "13 : 4 \n",
      "\n",
      "14 : 4 \n",
      "\n",
      "15 : 4 \n",
      "\n",
      "16 : 4 \n",
      "\n",
      "17 : 3 \n",
      "\n",
      "18 : 3 \n",
      "\n",
      "19 : 3 \n",
      "\n",
      "20 : 3 \n",
      "\n",
      "21 : 3 \n",
      "\n",
      "22 : 3 \n",
      "\n",
      "23 : 3 \n",
      "\n",
      "24 : 3 \n",
      "\n",
      "25 : 2 \n",
      "\n"
     ]
    }
   ],
   "source": [
    "for i in range(1,26):\n",
    "    d = slice(None, None, i)\n",
    "    c = list(range(49))\n",
    "    # print(c[d])\n",
    "    print(i,':',len(c[d]),'\\n')"
   ]
  }
 ],
 "metadata": {
  "kernelspec": {
   "display_name": "texnet",
   "language": "python",
   "name": "python3"
  },
  "language_info": {
   "codemirror_mode": {
    "name": "ipython",
    "version": 3
   },
   "file_extension": ".py",
   "mimetype": "text/x-python",
   "name": "python",
   "nbconvert_exporter": "python",
   "pygments_lexer": "ipython3",
   "version": "3.10.4"
  }
 },
 "nbformat": 4,
 "nbformat_minor": 2
}
